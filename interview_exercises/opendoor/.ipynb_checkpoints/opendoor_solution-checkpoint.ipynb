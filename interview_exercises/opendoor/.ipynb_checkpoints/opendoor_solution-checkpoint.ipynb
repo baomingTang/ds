{
 "cells": [
  {
   "cell_type": "markdown",
   "metadata": {},
   "source": [
    "## build a kNN model to predict price of home"
   ]
  },
  {
   "cell_type": "markdown",
   "metadata": {},
   "source": [
    "## Questions\n",
    "* Using the dataset provided, please build a k-NN model for k = 4 that avoids time leakage.\n",
    "* What is the performance of the model measured in Median Relative Absolute Error?\n",
    "* Please select the optimal k given an appropriate methodology.\n",
    "* Do you notice any spatial or temporal trends in error?\n",
    "* How would you improve this model?"
   ]
  },
  {
   "cell_type": "code",
   "execution_count": 108,
   "metadata": {
    "collapsed": false
   },
   "outputs": [],
   "source": [
    "import numpy as np\n",
    "import pandas as pd\n",
    "pd.set_option('display.max_rows', 500)\n",
    "pd.set_option('display.max_columns', 500)\n",
    "\n",
    "import matplotlib.pyplot as plt\n",
    "%matplotlib inline\n",
    "plt.style.use('ggplot')\n",
    "import seaborn as sns\n",
    "sns.set(style=\"whitegrid\", color_codes=True)\n",
    "\n",
    "# preprocessing data\n",
    "from sklearn.preprocessing import StandardScaler\n",
    "\n",
    "# import models \n",
    "from sklearn.neighbors import KNeighborsRegressor\n",
    "\n",
    "# use cross-validation\n",
    "from sklearn.cross_validation import train_test_split, cross_val_score, KFold\n",
    "\n",
    "# datetime \n",
    "from datetime import timedelta\n",
    "import datetime"
   ]
  },
  {
   "cell_type": "code",
   "execution_count": 206,
   "metadata": {
    "collapsed": true
   },
   "outputs": [],
   "source": [
    "# read the data\n",
    "df = pd.read_csv('sample_sales.csv', parse_dates=['list_date', 'close_date'])"
   ]
  },
  {
   "cell_type": "code",
   "execution_count": 207,
   "metadata": {
    "collapsed": false
   },
   "outputs": [
    {
     "data": {
      "text/plain": [
       "(85548, 5)"
      ]
     },
     "execution_count": 207,
     "metadata": {},
     "output_type": "execute_result"
    }
   ],
   "source": [
    "df.shape"
   ]
  },
  {
   "cell_type": "code",
   "execution_count": 208,
   "metadata": {
    "collapsed": false
   },
   "outputs": [
    {
     "data": {
      "text/html": [
       "<div>\n",
       "<table border=\"1\" class=\"dataframe\">\n",
       "  <thead>\n",
       "    <tr style=\"text-align: right;\">\n",
       "      <th></th>\n",
       "      <th>latitude</th>\n",
       "      <th>longitude</th>\n",
       "      <th>list_date</th>\n",
       "      <th>close_date</th>\n",
       "      <th>close_price</th>\n",
       "    </tr>\n",
       "  </thead>\n",
       "  <tbody>\n",
       "    <tr>\n",
       "      <th>0</th>\n",
       "      <td>36.344900</td>\n",
       "      <td>-97.745410</td>\n",
       "      <td>2013-07-30</td>\n",
       "      <td>2014-08-01</td>\n",
       "      <td>180000</td>\n",
       "    </tr>\n",
       "    <tr>\n",
       "      <th>1</th>\n",
       "      <td>36.325867</td>\n",
       "      <td>-98.704020</td>\n",
       "      <td>2013-12-04</td>\n",
       "      <td>2014-01-07</td>\n",
       "      <td>124900</td>\n",
       "    </tr>\n",
       "    <tr>\n",
       "      <th>2</th>\n",
       "      <td>36.397224</td>\n",
       "      <td>-97.730635</td>\n",
       "      <td>2013-11-25</td>\n",
       "      <td>2013-12-13</td>\n",
       "      <td>143250</td>\n",
       "    </tr>\n",
       "    <tr>\n",
       "      <th>3</th>\n",
       "      <td>36.188710</td>\n",
       "      <td>-98.370340</td>\n",
       "      <td>2013-12-10</td>\n",
       "      <td>2013-12-24</td>\n",
       "      <td>66650</td>\n",
       "    </tr>\n",
       "    <tr>\n",
       "      <th>4</th>\n",
       "      <td>36.688700</td>\n",
       "      <td>-98.147475</td>\n",
       "      <td>2013-12-10</td>\n",
       "      <td>2014-01-03</td>\n",
       "      <td>210000</td>\n",
       "    </tr>\n",
       "  </tbody>\n",
       "</table>\n",
       "</div>"
      ],
      "text/plain": [
       "    latitude  longitude  list_date close_date  close_price\n",
       "0  36.344900 -97.745410 2013-07-30 2014-08-01       180000\n",
       "1  36.325867 -98.704020 2013-12-04 2014-01-07       124900\n",
       "2  36.397224 -97.730635 2013-11-25 2013-12-13       143250\n",
       "3  36.188710 -98.370340 2013-12-10 2013-12-24        66650\n",
       "4  36.688700 -98.147475 2013-12-10 2014-01-03       210000"
      ]
     },
     "execution_count": 208,
     "metadata": {},
     "output_type": "execute_result"
    }
   ],
   "source": [
    "df.head()"
   ]
  },
  {
   "cell_type": "code",
   "execution_count": 209,
   "metadata": {
    "collapsed": false
   },
   "outputs": [
    {
     "data": {
      "text/html": [
       "<div>\n",
       "<table border=\"1\" class=\"dataframe\">\n",
       "  <thead>\n",
       "    <tr style=\"text-align: right;\">\n",
       "      <th></th>\n",
       "      <th>latitude</th>\n",
       "      <th>longitude</th>\n",
       "      <th>close_price</th>\n",
       "    </tr>\n",
       "  </thead>\n",
       "  <tbody>\n",
       "    <tr>\n",
       "      <th>count</th>\n",
       "      <td>85548.000000</td>\n",
       "      <td>85548.000000</td>\n",
       "      <td>8.554800e+04</td>\n",
       "    </tr>\n",
       "    <tr>\n",
       "      <th>mean</th>\n",
       "      <td>34.575342</td>\n",
       "      <td>-93.576787</td>\n",
       "      <td>2.666583e+06</td>\n",
       "    </tr>\n",
       "    <tr>\n",
       "      <th>std</th>\n",
       "      <td>14.096439</td>\n",
       "      <td>31.131773</td>\n",
       "      <td>1.547636e+07</td>\n",
       "    </tr>\n",
       "    <tr>\n",
       "      <th>min</th>\n",
       "      <td>-89.985915</td>\n",
       "      <td>-179.921891</td>\n",
       "      <td>-9.998000e+04</td>\n",
       "    </tr>\n",
       "    <tr>\n",
       "      <th>25%</th>\n",
       "      <td>36.203080</td>\n",
       "      <td>-98.480120</td>\n",
       "      <td>1.150000e+05</td>\n",
       "    </tr>\n",
       "    <tr>\n",
       "      <th>50%</th>\n",
       "      <td>36.384527</td>\n",
       "      <td>-98.168405</td>\n",
       "      <td>1.710000e+05</td>\n",
       "    </tr>\n",
       "    <tr>\n",
       "      <th>75%</th>\n",
       "      <td>36.542446</td>\n",
       "      <td>-97.973845</td>\n",
       "      <td>2.720000e+05</td>\n",
       "    </tr>\n",
       "    <tr>\n",
       "      <th>max</th>\n",
       "      <td>89.989203</td>\n",
       "      <td>179.559607</td>\n",
       "      <td>1.009996e+08</td>\n",
       "    </tr>\n",
       "  </tbody>\n",
       "</table>\n",
       "</div>"
      ],
      "text/plain": [
       "           latitude     longitude   close_price\n",
       "count  85548.000000  85548.000000  8.554800e+04\n",
       "mean      34.575342    -93.576787  2.666583e+06\n",
       "std       14.096439     31.131773  1.547636e+07\n",
       "min      -89.985915   -179.921891 -9.998000e+04\n",
       "25%       36.203080    -98.480120  1.150000e+05\n",
       "50%       36.384527    -98.168405  1.710000e+05\n",
       "75%       36.542446    -97.973845  2.720000e+05\n",
       "max       89.989203    179.559607  1.009996e+08"
      ]
     },
     "execution_count": 209,
     "metadata": {},
     "output_type": "execute_result"
    }
   ],
   "source": [
    "df.describe()"
   ]
  },
  {
   "cell_type": "markdown",
   "metadata": {},
   "source": [
    "## close price of some data is negative, which is meaningless. I remove these records."
   ]
  },
  {
   "cell_type": "code",
   "execution_count": 210,
   "metadata": {
    "collapsed": false
   },
   "outputs": [
    {
     "data": {
      "text/plain": [
       "(83454, 5)"
      ]
     },
     "execution_count": 210,
     "metadata": {},
     "output_type": "execute_result"
    }
   ],
   "source": [
    "df1 = df[df.close_price > 0]\n",
    "df1.shape"
   ]
  },
  {
   "cell_type": "code",
   "execution_count": 211,
   "metadata": {
    "collapsed": false
   },
   "outputs": [
    {
     "data": {
      "text/html": [
       "<div>\n",
       "<table border=\"1\" class=\"dataframe\">\n",
       "  <thead>\n",
       "    <tr style=\"text-align: right;\">\n",
       "      <th></th>\n",
       "      <th>latitude</th>\n",
       "      <th>longitude</th>\n",
       "      <th>close_price</th>\n",
       "    </tr>\n",
       "  </thead>\n",
       "  <tbody>\n",
       "    <tr>\n",
       "      <th>count</th>\n",
       "      <td>83454.000000</td>\n",
       "      <td>83454.000000</td>\n",
       "      <td>8.345400e+04</td>\n",
       "    </tr>\n",
       "    <tr>\n",
       "      <th>mean</th>\n",
       "      <td>34.576793</td>\n",
       "      <td>-93.564453</td>\n",
       "      <td>2.734712e+06</td>\n",
       "    </tr>\n",
       "    <tr>\n",
       "      <th>std</th>\n",
       "      <td>14.101168</td>\n",
       "      <td>31.192332</td>\n",
       "      <td>1.566327e+07</td>\n",
       "    </tr>\n",
       "    <tr>\n",
       "      <th>min</th>\n",
       "      <td>-89.985915</td>\n",
       "      <td>-179.921891</td>\n",
       "      <td>1.000000e+00</td>\n",
       "    </tr>\n",
       "    <tr>\n",
       "      <th>25%</th>\n",
       "      <td>36.203114</td>\n",
       "      <td>-98.480127</td>\n",
       "      <td>1.190000e+05</td>\n",
       "    </tr>\n",
       "    <tr>\n",
       "      <th>50%</th>\n",
       "      <td>36.384389</td>\n",
       "      <td>-98.168285</td>\n",
       "      <td>1.750000e+05</td>\n",
       "    </tr>\n",
       "    <tr>\n",
       "      <th>75%</th>\n",
       "      <td>36.542009</td>\n",
       "      <td>-97.973856</td>\n",
       "      <td>2.750000e+05</td>\n",
       "    </tr>\n",
       "    <tr>\n",
       "      <th>max</th>\n",
       "      <td>89.989203</td>\n",
       "      <td>179.559607</td>\n",
       "      <td>1.009996e+08</td>\n",
       "    </tr>\n",
       "  </tbody>\n",
       "</table>\n",
       "</div>"
      ],
      "text/plain": [
       "           latitude     longitude   close_price\n",
       "count  83454.000000  83454.000000  8.345400e+04\n",
       "mean      34.576793    -93.564453  2.734712e+06\n",
       "std       14.101168     31.192332  1.566327e+07\n",
       "min      -89.985915   -179.921891  1.000000e+00\n",
       "25%       36.203114    -98.480127  1.190000e+05\n",
       "50%       36.384389    -98.168285  1.750000e+05\n",
       "75%       36.542009    -97.973856  2.750000e+05\n",
       "max       89.989203    179.559607  1.009996e+08"
      ]
     },
     "execution_count": 211,
     "metadata": {},
     "output_type": "execute_result"
    }
   ],
   "source": [
    "df1.describe()"
   ]
  },
  {
   "cell_type": "markdown",
   "metadata": {},
   "source": [
    "## Q1: Using the dataset provided, please build a k-NN model for k = 4 that avoids time leakage.\n",
    "\n",
    "* In this problem, neighbors is defined by spatial distance, which is the euclidean_distance (p=2 in KNeighborsRegressor)\n",
    "\n",
    "* About weights of neighbors, they could be uniform or distance d. Here I choose distance, which mean weight is proportional to 1/d. (cross validation could be used to see which weigths meathod is better)"
   ]
  },
  {
   "cell_type": "code",
   "execution_count": 212,
   "metadata": {
    "collapsed": true
   },
   "outputs": [],
   "source": [
    "features = ['latitude', 'longitude', 'list_date', 'close_date']\n",
    "label = ['close_price']\n",
    "# save features into X and label into y\n",
    "X = df1[features].values # numpy array\n",
    "y = df1[label].ix[:, 0].values # 1d numpy array"
   ]
  },
  {
   "cell_type": "code",
   "execution_count": 213,
   "metadata": {
    "collapsed": false
   },
   "outputs": [
    {
     "data": {
      "text/plain": [
       "((83454, 4), (83454,))"
      ]
     },
     "execution_count": 213,
     "metadata": {},
     "output_type": "execute_result"
    }
   ],
   "source": [
    "X.shape, y.shape"
   ]
  },
  {
   "cell_type": "code",
   "execution_count": 214,
   "metadata": {
    "collapsed": false
   },
   "outputs": [],
   "source": [
    "def train_knn(X_train, X_test, y_train, y_test, n_neighbors, weights):\n",
    "    \"\"\"train a KNN, make prediction and output error\"\"\"\n",
    "    estimator = KNeighborsRegressor(n_neighbors=n_neighbors, weights=weights, p=2)\n",
    "    y_pred = []  \n",
    "    errs = []\n",
    "    \n",
    "    for i in range(X_test.shape[0]): # for each data in testing \n",
    "    # for i in range(0, 50): # for each data in testing \n",
    "        # only use training data where close_date of training data is prior to list_date \n",
    "        index_prior = (X_train[:, 3] < X_test[i, 2]) \n",
    "        # print(\"size of training data after filtering\", index_prior.sum())\n",
    "        if (index_prior.sum() >= n_neighbors):\n",
    "            estimator.fit(X_train[index_prior, :2], y_train[index_prior])\n",
    "            y_pred_i = estimator.predict(X_test[i, :2])[0]\n",
    "            # compute MRAE error\n",
    "            err_i = np.abs(y_pred_i - y_test[i]) / y_test[i]\n",
    "        else: # number of samples in training is less than number of neighbors, can not use KNN\n",
    "            y_pred_i = np.nan\n",
    "            err_i = np.nan\n",
    "            # print('can not use KNN because number of samples is', index_prior.sum())\n",
    "\n",
    "        # print(i, y_test[i], y_pred_i, err)\n",
    "        y_pred.append(y_pred_i)\n",
    "        errs.append(err_i)\n",
    "        \n",
    "    y_pred = np.array(y_pred)        \n",
    "    errs = np.array(errs)    \n",
    "    return y_pred, errs"
   ]
  },
  {
   "cell_type": "markdown",
   "metadata": {},
   "source": [
    "## Q2: What is the performance of the model measured in Median Relative Absolute Error?\n",
    "* Use cross validation to evaluate the performance of model\n",
    "* Use MRAE as performance metric"
   ]
  },
  {
   "cell_type": "code",
   "execution_count": 215,
   "metadata": {
    "collapsed": false
   },
   "outputs": [],
   "source": [
    "def cv_score(X, y, n_neighbors=4, weights='distance', n_samples=X.shape[0]):\n",
    "    \"\"\"use K-fold to split data into training and testing, train model, and output MRAE\"\"\"\n",
    "    MRAEs = []    \n",
    "    print(\"number of samples:\", n_samples)\n",
    "    kf = KFold(n_samples, n_folds=3, random_state=1234)\n",
    "\n",
    "    for train_index, test_index in kf:\n",
    "        X_train, X_test = X[train_index], X[test_index]\n",
    "        y_train, y_test = y[train_index], y[test_index]\n",
    "        # train knn \n",
    "        y_pred, errs = train_knn(X_train, X_test, y_train, y_test, n_neighbors, weights)\n",
    "#         print(y_pred.shape, errs.shape)\n",
    "        # compute MRAE\n",
    "        MRAEs.append(np.median(errs))\n",
    "    return(np.array(MRAEs))"
   ]
  },
  {
   "cell_type": "code",
   "execution_count": 517,
   "metadata": {
    "collapsed": false
   },
   "outputs": [
    {
     "name": "stdout",
     "output_type": "stream",
     "text": [
      "number of samples: 40000\n",
      "MRAE: [ 0.32382954  0.26314384  0.39301352]\n",
      "MRAE is between 0.327 +/- 0.053\n",
      "CPU times: user 4min 33s, sys: 15.6 ms, total: 4min 33s\n",
      "Wall time: 4min 33s\n"
     ]
    }
   ],
   "source": [
    "%%time\n",
    "MRAEs = cv_score(X, y, n_samples=40000)\n",
    "print('MRAE:', MRAEs)\n",
    "print('MRAE is between %.3f +/- %.3f' % (MRAEs.mean(), MRAEs.std()))"
   ]
  },
  {
   "cell_type": "markdown",
   "metadata": {},
   "source": [
    "## Q3: Please select the optimal k given an appropriate methodology.\n",
    "* use cross validataion to select the optimal k, which is 2 (see the plot below)"
   ]
  },
  {
   "cell_type": "code",
   "execution_count": 222,
   "metadata": {
    "collapsed": false
   },
   "outputs": [
    {
     "name": "stdout",
     "output_type": "stream",
     "text": [
      "when n_neighbors: 1\n",
      "number of samples: 10000\n",
      "MRAE is between 0.420 +/- 0.033 \n",
      "\n",
      "when n_neighbors: 2\n",
      "number of samples: 10000\n",
      "MRAE is between 0.414 +/- 0.027 \n",
      "\n",
      "when n_neighbors: 3\n",
      "number of samples: 10000\n",
      "MRAE is between 0.418 +/- 0.028 \n",
      "\n",
      "when n_neighbors: 4\n",
      "number of samples: 10000\n",
      "MRAE is between 0.433 +/- 0.026 \n",
      "\n",
      "when n_neighbors: 5\n",
      "number of samples: 10000\n",
      "MRAE is between 0.450 +/- 0.022 \n",
      "\n",
      "when n_neighbors: 6\n",
      "number of samples: 10000\n",
      "MRAE is between 0.472 +/- 0.023 \n",
      "\n",
      "CPU times: user 1min 53s, sys: 7.74 ms, total: 1min 53s\n",
      "Wall time: 1min 53s\n"
     ]
    }
   ],
   "source": [
    "%%time\n",
    "n_neighbors_list = np.arange(1, 7)\n",
    "MRAEs_list = []\n",
    "for n_neighbors in n_neighbors_list:\n",
    "    print('when n_neighbors:', n_neighbors)\n",
    "    MRAEs = cv_score(X, y, n_neighbors, n_samples=10000)\n",
    "    print('MRAE is between %.3f +/- %.3f \\n' % (MRAEs.mean(), MRAEs.std()))\n",
    "    MRAEs_list.append(MRAEs.mean())"
   ]
  },
  {
   "cell_type": "markdown",
   "metadata": {
    "collapsed": false
   },
   "source": [
    "###  below is the results for all samples. I did it at another ipython notebook \n",
    "\n",
    "when n_neighbors: 1\n",
    "number of samples: 83454\n",
    "MRAE is between 0.284 +/- 0.076 \n",
    "\n",
    "when n_neighbors: 2\n",
    "number of samples: 83454\n",
    "MRAE is between 0.270 +/- 0.068 \n",
    "\n",
    "when n_neighbors: 3\n",
    "number of samples: 83454\n",
    "MRAE is between 0.270 +/- 0.069 \n",
    "\n",
    "when n_neighbors: 4\n",
    "number of samples: 83454\n",
    "MRAE is between 0.280 +/- 0.075 \n",
    "\n",
    "when n_neighbors: 5\n",
    "number of samples: 83454\n",
    "MRAE is between 0.291 +/- 0.081 \n",
    "\n",
    "when n_neighbors: 6\n",
    "number of samples: 83454\n",
    "MRAE is between 0.306 +/- 0.088 \n",
    "\n",
    "CPU times: user 2h 35min 34s, sys: 496 ms, total: 2h 35min 34s\n",
    "Wall time: 2h 35min 34s"
   ]
  },
  {
   "cell_type": "code",
   "execution_count": 549,
   "metadata": {
    "collapsed": false
   },
   "outputs": [
    {
     "data": {
      "text/plain": [
       "<matplotlib.text.Text at 0x7f0da8d76358>"
      ]
     },
     "execution_count": 549,
     "metadata": {},
     "output_type": "execute_result"
    },
    {
     "data": {
      "image/png": "[encoded data removed]",
      "text/plain": [
       "<matplotlib.figure.Figure at 0x7f0da8da6710>"
      ]
     },
     "metadata": {},
     "output_type": "display_data"
    }
   ],
   "source": [
    "plt.plot( np.arange(1, 7), MRAEs_list, 'bo-')\n",
    "plt.xlabel(\"k neighbors\")\n",
    "plt.ylabel(\"MRAE\")"
   ]
  },
  {
   "cell_type": "code",
   "execution_count": null,
   "metadata": {
    "collapsed": true
   },
   "outputs": [],
   "source": []
  },
  {
   "cell_type": "markdown",
   "metadata": {},
   "source": [
    "## Q4: Do you notice any spatial or temporal trends in error?\n",
    "* use the optimal k (k=2) to retrain the model\n",
    "* plot the errors of predictions in spatial (heatmap) or in time \n",
    "* conclusions:\n",
    "    * error is higher in the middle of year compared to beginning of year (see plot below)\n",
    "    * the left upper corner (with large longtigue and small latitude) has higher error (see plot below)"
   ]
  },
  {
   "cell_type": "code",
   "execution_count": 16,
   "metadata": {
    "collapsed": false
   },
   "outputs": [
    {
     "name": "stdout",
     "output_type": "stream",
     "text": [
      "(62590, 4) (20864, 4) (62590,) (20864,)\n",
      "MRAE:  0.248128389062\n",
      "CPU times: user 7min 26s, sys: 23 ms, total: 7min 26s\n",
      "Wall time: 7min 26s\n"
     ]
    }
   ],
   "source": [
    "%%time\n",
    "# split X, y into training and testing dataset\n",
    "X_train, X_test, y_train, y_test = train_test_split(X, y, test_size=0.25, random_state=1234)\n",
    "print(X_train.shape, X_test.shape, y_train.shape, y_test.shape)\n",
    "\n",
    "y_pred, errs = train_knn(X_train, X_test, y_train, y_test, n_neighbors=2, weights='distance')\n",
    "MRAE = np.median(errs)\n",
    "print('MRAE: ', MRAE)"
   ]
  },
  {
   "cell_type": "code",
   "execution_count": 21,
   "metadata": {
    "collapsed": false
   },
   "outputs": [
    {
     "data": {
      "text/plain": [
       "array([[36.313988, -98.08033, Timestamp('2013-04-19 00:00:00'),\n",
       "        Timestamp('2013-07-29 00:00:00'), 0.3398074657696694],\n",
       "       [36.49362, -97.96319, Timestamp('2013-03-17 00:00:00'),\n",
       "        Timestamp('2013-06-05 00:00:00'), 184.15669698284003],\n",
       "       [36.335094, -98.10089, Timestamp('2013-04-03 00:00:00'),\n",
       "        Timestamp('2013-06-05 00:00:00'), 7.399910191982032],\n",
       "       ..., \n",
       "       [36.320071999999996, -98.03013, Timestamp('2013-04-22 00:00:00'),\n",
       "        Timestamp('2013-10-04 00:00:00'), 0.28621667753867674],\n",
       "       [36.5951, -98.04053, Timestamp('2013-08-15 00:00:00'),\n",
       "        Timestamp('2013-10-04 00:00:00'), 0.07179195103549899],\n",
       "       [36.587856, -98.005675, Timestamp('2013-03-01 00:00:00'),\n",
       "        Timestamp('2013-04-23 00:00:00'), 0.2165974835343095]], dtype=object)"
      ]
     },
     "execution_count": 21,
     "metadata": {},
     "output_type": "execute_result"
    }
   ],
   "source": [
    "np.hstack((X_test, errs[:, np.newaxis]))"
   ]
  },
  {
   "cell_type": "code",
   "execution_count": 22,
   "metadata": {
    "collapsed": false
   },
   "outputs": [],
   "source": [
    "X_test_error = pd.DataFrame(np.hstack((X_test, errs[:, np.newaxis])), \n",
    "                            columns=['latitude', 'longitude', 'list_date', 'close_date', 'error'])\n",
    "# remove np.nan values\n",
    "X_test_error.dropna(inplace=True)"
   ]
  },
  {
   "cell_type": "code",
   "execution_count": 35,
   "metadata": {
    "collapsed": false
   },
   "outputs": [],
   "source": [
    "X_test_error['month'] = X_test_error.list_date.dt.month"
   ]
  },
  {
   "cell_type": "code",
   "execution_count": 44,
   "metadata": {
    "collapsed": false
   },
   "outputs": [
    {
     "data": {
      "text/plain": [
       "month\n",
       "1      7.068162\n",
       "2     13.910615\n",
       "3     13.546936\n",
       "4     18.423141\n",
       "5     22.741241\n",
       "6     19.624415\n",
       "7     21.326070\n",
       "8     19.841366\n",
       "9     18.871085\n",
       "10    20.344898\n",
       "11    26.934966\n",
       "12    14.490346\n",
       "Name: error, dtype: float64"
      ]
     },
     "execution_count": 44,
     "metadata": {},
     "output_type": "execute_result"
    }
   ],
   "source": [
    "error_by_month = X_test_error.groupby('month')['error'].apply(np.mean)\n",
    "error_by_month"
   ]
  },
  {
   "cell_type": "code",
   "execution_count": 48,
   "metadata": {
    "collapsed": false
   },
   "outputs": [
    {
     "data": {
      "text/plain": [
       "<matplotlib.axes._subplots.AxesSubplot at 0x7f25d7af72e8>"
      ]
     },
     "execution_count": 48,
     "metadata": {},
     "output_type": "execute_result"
    },
    {
     "data": {
      "image/png": "[encoded data removed]",
      "text/plain": [
       "<matplotlib.figure.Figure at 0x7f25d7af9198>"
      ]
     },
     "metadata": {},
     "output_type": "display_data"
    }
   ],
   "source": [
    "error_by_month.plot(kind='bar')"
   ]
  },
  {
   "cell_type": "code",
   "execution_count": 62,
   "metadata": {
    "collapsed": false
   },
   "outputs": [
    {
     "name": "stderr",
     "output_type": "stream",
     "text": [
      ":0: FutureWarning: IPython widgets are experimental and may change in the future.\n"
     ]
    },
    {
     "data": {
      "application/javascript": [
       "\n",
       "            require(['base/js/utils'],\n",
       "            function(utils) {\n",
       "                utils.load_extensions('gmaps_js/gmaps_views');\n",
       "            });\n",
       "            "
      ],
      "text/plain": [
       "<IPython.core.display.Javascript object>"
      ]
     },
     "metadata": {},
     "output_type": "display_data"
    }
   ],
   "source": [
    "import gmaps"
   ]
  },
  {
   "cell_type": "code",
   "execution_count": 66,
   "metadata": {
    "collapsed": false
   },
   "outputs": [],
   "source": [
    "X_test_error['error1'] = X_test_error.error + 1e-12"
   ]
  },
  {
   "cell_type": "code",
   "execution_count": 67,
   "metadata": {
    "collapsed": false
   },
   "outputs": [
    {
     "data": {
      "text/plain": [
       "1e-12"
      ]
     },
     "execution_count": 67,
     "metadata": {},
     "output_type": "execute_result"
    }
   ],
   "source": [
    "X_test_error.error1.min()"
   ]
  },
  {
   "cell_type": "code",
   "execution_count": 68,
   "metadata": {
    "collapsed": false
   },
   "outputs": [
    {
     "data": {
      "text/plain": [
       "Index(['latitude', 'longitude', 'list_date', 'close_date', 'error', 'month',\n",
       "       'error1'],\n",
       "      dtype='object')"
      ]
     },
     "execution_count": 68,
     "metadata": {},
     "output_type": "execute_result"
    }
   ],
   "source": [
    "X_test_error.columns"
   ]
  },
  {
   "cell_type": "code",
   "execution_count": 70,
   "metadata": {
    "collapsed": false
   },
   "outputs": [
    {
     "data": {
      "text/plain": [
       "array([[36.313988, -98.08033, 0.3398074657706694],\n",
       "       [36.49362, -97.96319, 184.15669698284103],\n",
       "       [36.335094, -98.10089, 7.399910191983032],\n",
       "       ..., \n",
       "       [36.320071999999996, -98.03013, 0.2862166775396767],\n",
       "       [36.5951, -98.04053, 0.07179195103649899],\n",
       "       [36.587856, -98.005675, 0.2165974835353095]], dtype=object)"
      ]
     },
     "execution_count": 70,
     "metadata": {},
     "output_type": "execute_result"
    }
   ],
   "source": [
    "X_test_error[['latitude', 'longitude', 'error1']].values"
   ]
  },
  {
   "cell_type": "code",
   "execution_count": 71,
   "metadata": {
    "collapsed": true
   },
   "outputs": [],
   "source": [
    "w = gmaps.heatmap(X_test_error[['latitude', 'longitude', 'error1']].values)\n",
    "gmaps.display(w)"
   ]
  },
  {
   "cell_type": "code",
   "execution_count": 92,
   "metadata": {
    "collapsed": false
   },
   "outputs": [
    {
     "data": {
      "text/plain": [
       "<matplotlib.axes._subplots.AxesSubplot at 0x7f25d46c3898>"
      ]
     },
     "execution_count": 92,
     "metadata": {},
     "output_type": "execute_result"
    },
    {
     "data": {
      "image/png": "[encoded data removed]",
      "text/plain": [
       "<matplotlib.figure.Figure at 0x7f25d46c8be0>"
      ]
     },
     "metadata": {},
     "output_type": "display_data"
    }
   ],
   "source": [
    "sns.interactplot(\"latitude\", \"longitude\", \"error\", X_test_error, cmap='seismic', \n",
    "                 filled=True, levels=50)"
   ]
  },
  {
   "cell_type": "code",
   "execution_count": null,
   "metadata": {
    "collapsed": true
   },
   "outputs": [],
   "source": []
  },
  {
   "cell_type": "markdown",
   "metadata": {},
   "source": [
    "## Q5: How would you improve this model?\n",
    "* add time difference between list date as another feature to find K nearest neighbors\n",
    "* since latitude and longtitude are difference scale compared to time difference, these features need to be normalized so that they are on the same scale. (zero mean and unit variace)\n",
    "* retrain KNN using these three features "
   ]
  },
  {
   "cell_type": "code",
   "execution_count": 122,
   "metadata": {
    "collapsed": false
   },
   "outputs": [],
   "source": [
    "df1['list_date_seconds'] = df1.list_date.apply(lambda date: int(date.strftime('%s')))"
   ]
  },
  {
   "cell_type": "code",
   "execution_count": 184,
   "metadata": {
    "collapsed": false
   },
   "outputs": [],
   "source": [
    "ss = StandardScaler()\n",
    "df_ss = ss.fit_transform(df1[['latitude', 'longitude', 'list_date_seconds']].values)"
   ]
  },
  {
   "cell_type": "code",
   "execution_count": 185,
   "metadata": {
    "collapsed": false
   },
   "outputs": [
    {
     "data": {
      "text/plain": [
       "array([[ 0.12538799, -0.13403879,  0.43992899],\n",
       "       [ 0.12403824, -0.16477121,  1.76794143],\n",
       "       [ 0.12909863, -0.13356511,  1.67383031],\n",
       "       ..., \n",
       "       [ 0.14677805, -0.14205299, -0.62666367],\n",
       "       [ 0.14585592, -0.14030563,  0.75363272],\n",
       "       [ 0.13258304, -0.15385788,  0.31444751]])"
      ]
     },
     "execution_count": 185,
     "metadata": {},
     "output_type": "execute_result"
    }
   ],
   "source": [
    "df_ss"
   ]
  },
  {
   "cell_type": "code",
   "execution_count": 182,
   "metadata": {
    "collapsed": false
   },
   "outputs": [
    {
     "data": {
      "text/plain": [
       "array([[Timestamp('2013-07-30 00:00:00'), Timestamp('2014-08-01 00:00:00')],\n",
       "       [Timestamp('2013-12-04 00:00:00'), Timestamp('2014-01-07 00:00:00')],\n",
       "       [Timestamp('2013-11-25 00:00:00'), Timestamp('2013-12-13 00:00:00')],\n",
       "       ..., \n",
       "       [Timestamp('2013-04-19 00:00:00'), Timestamp('2015-12-14 00:00:00')],\n",
       "       [Timestamp('2013-08-29 00:00:00'), Timestamp('2013-11-21 00:00:00')],\n",
       "       [Timestamp('2013-07-18 00:00:00'), Timestamp('2015-05-07 00:00:00')]], dtype=object)"
      ]
     },
     "execution_count": 182,
     "metadata": {},
     "output_type": "execute_result"
    }
   ],
   "source": [
    "X[:, 2:]"
   ]
  },
  {
   "cell_type": "code",
   "execution_count": 197,
   "metadata": {
    "collapsed": false
   },
   "outputs": [
    {
     "data": {
      "text/plain": [
       "array([[Timestamp('2013-07-30 00:00:00'), Timestamp('2014-08-01 00:00:00'),\n",
       "        0.1253879945112447, -0.13403879106637634, 0.4399289948519235],\n",
       "       [Timestamp('2013-12-04 00:00:00'), Timestamp('2014-01-07 00:00:00'),\n",
       "        0.12403824011890097, -0.1647712081891785, 1.7679414268284326],\n",
       "       [Timestamp('2013-11-25 00:00:00'), Timestamp('2013-12-13 00:00:00'),\n",
       "        0.12909863123824322, -0.13356511411434224, 1.6738303096017508],\n",
       "       ..., \n",
       "       [Timestamp('2013-04-19 00:00:00'), Timestamp('2015-12-14 00:00:00'),\n",
       "        0.14677805225735513, -0.1420529883231943, -0.6266636670504697],\n",
       "       [Timestamp('2013-08-29 00:00:00'), Timestamp('2013-11-21 00:00:00'),\n",
       "        0.14585592456526109, -0.1403056253050102, 0.7536327189408627],\n",
       "       [Timestamp('2013-07-18 00:00:00'), Timestamp('2015-05-07 00:00:00'),\n",
       "        0.13258304422166114, -0.15385788357043556, 0.3144475052163478]], dtype=object)"
      ]
     },
     "execution_count": 197,
     "metadata": {},
     "output_type": "execute_result"
    }
   ],
   "source": [
    "# features = ['latitude', 'longitude', 'list_date', 'close_date']\n",
    "# combine all features into training data. Features in new training data are\n",
    "# ['list_date', 'close_date', 'latitude_ss', 'longitude_ss', 'list_date_ss']\n",
    "X1 = np.hstack((X[:, 2:], df_ss))\n",
    "X1"
   ]
  },
  {
   "cell_type": "code",
   "execution_count": 202,
   "metadata": {
    "collapsed": false
   },
   "outputs": [],
   "source": [
    "def train_knn1(X_train, X_test, y_train, y_test, n_neighbors, weights):\n",
    "    \"\"\"train a KNN, make prediction and output error\"\"\"\n",
    "    estimator = KNeighborsRegressor(n_neighbors=n_neighbors, weights=weights, p=2)\n",
    "    y_pred = []  \n",
    "    errs = []\n",
    "    \n",
    "    for i in range(X_test.shape[0]): # for each data in testing \n",
    "#     for i in range(0, 10000): # for each data in testing \n",
    "        # only use training data where close_date of training data is prior to list_date \n",
    "        index_prior = (X_train[:, 0] < X_test[i, 1]) \n",
    "        # print(\"size of training data after filtering\", index_prior.sum())\n",
    "        if (index_prior.sum() >= n_neighbors):\n",
    "            estimator.fit(X_train[index_prior, 2:], y_train[index_prior])\n",
    "            y_pred_i = estimator.predict(X_test[i, 2:])[0]\n",
    "            # compute MRAE error\n",
    "            err_i = np.abs(y_pred_i - y_test[i]) / y_test[i]\n",
    "        else: # number of samples in training is less than number of neighbors, can not use KNN\n",
    "            y_pred_i = np.nan\n",
    "            err_i = np.nan\n",
    "            # print('can not use KNN because number of samples is', index_prior.sum())\n",
    "\n",
    "        # print(i, y_test[i], y_pred_i, err)\n",
    "        y_pred.append(y_pred_i)\n",
    "        errs.append(err_i)\n",
    "        \n",
    "    y_pred = np.array(y_pred)        \n",
    "    errs = np.array(errs)    \n",
    "    return y_pred, errs"
   ]
  },
  {
   "cell_type": "code",
   "execution_count": 201,
   "metadata": {
    "collapsed": false
   },
   "outputs": [
    {
     "name": "stdout",
     "output_type": "stream",
     "text": [
      "(62590, 5) (20864, 5) (62590,) (20864,)\n",
      "MRAE:  0.41308761944\n",
      "CPU times: user 7min 49s, sys: 38.8 ms, total: 7min 49s\n",
      "Wall time: 7min 49s\n"
     ]
    }
   ],
   "source": [
    "%%time\n",
    "# split X, y into training and testing dataset\n",
    "X_train1, X_test1, y_train1, y_test1 = train_test_split(X1, y, test_size=0.25, \n",
    "                                                        random_state=1234)\n",
    "print(X_train1.shape, X_test1.shape, y_train1.shape, y_test1.shape)\n",
    "\n",
    "y_pred1, errs1 = train_knn1(X_train1, X_test1, y_train1, y_test1, n_neighbors=2, \n",
    "                            weights='distance')\n",
    "MRAE1 = np.median(errs1)\n",
    "print('MRAE: ', MRAE1)"
   ]
  }
 ],
 "metadata": {
  "kernelspec": {
   "display_name": "Python 3",
   "language": "python",
   "name": "python3"
  },
  "language_info": {
   "codemirror_mode": {
    "name": "ipython",
    "version": 3
   },
   "file_extension": ".py",
   "mimetype": "text/x-python",
   "name": "python",
   "nbconvert_exporter": "python",
   "pygments_lexer": "ipython3",
   "version": "3.4.3"
  }
 },
 "nbformat": 4,
 "nbformat_minor": 0
}
