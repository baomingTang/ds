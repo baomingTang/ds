{
 "cells": [
  {
   "cell_type": "markdown",
   "metadata": {},
   "source": [
    "## outline of solution\n",
    "* identify the problem: build a machin learning model to predict if what type of browser users are on when accessing Bitly links. It is a multi-classes classification problem.\n",
    "\n",
    "* feature engineering\n",
    "    * extract target from a (browser user agent)\n",
    "    * extract features as input for machine learning model\n",
    "\n",
    "* model evaluation "
   ]
  },
  {
   "cell_type": "code",
   "execution_count": 1,
   "metadata": {
    "collapsed": true
   },
   "outputs": [],
   "source": [
    "import psycopg2 as pg\n",
    "import sys\n",
    "import pickle\n",
    "\n",
    "import json\n",
    "import pprint\n",
    "\n",
    "import numpy as np\n",
    "import pandas as pd\n",
    "from pandas import DataFrame, Series\n",
    "pd.set_option('display.max_rows', 500)\n",
    "pd.set_option('display.max_columns', 500)\n",
    "\n",
    "import matplotlib.pyplot as plt\n",
    "%matplotlib inline\n",
    "plt.style.use('ggplot')\n",
    "\n",
    "import seaborn as sns\n",
    "sns.set(style=\"whitegrid\", color_codes=True)\n",
    "\n",
    "from user_agents import parse"
   ]
  },
  {
   "cell_type": "code",
   "execution_count": 2,
   "metadata": {
    "collapsed": false
   },
   "outputs": [
    {
     "name": "stdout",
     "output_type": "stream",
     "text": [
      "100\n"
     ]
    }
   ],
   "source": [
    "# read json data\n",
    "json_holder=[]\n",
    "with open(\"decodesaa_test\",\"r\") as f:\n",
    "    for line in f:\n",
    "        try:\n",
    "            json_line=json.loads(line)\n",
    "            json_holder.append(json_line)\n",
    "        except:\n",
    "            pass\n",
    "print(len(json_holder))"
   ]
  },
  {
   "cell_type": "code",
   "execution_count": 42,
   "metadata": {
    "collapsed": false
   },
   "outputs": [
    {
     "name": "stdout",
     "output_type": "stream",
     "text": [
      "[{'a': 'Mozilla/5.0 (Linux; Android 4.4.2; GT-I9507 Build/KOT49H) '\n",
      "       'AppleWebKit/537.36 (KHTML, like Gecko) Version/4.0 Chrome/30.0.0.0 '\n",
      "       'Mobile Safari/537.36 [FB_IAB/FB4A;FBAV/28.0.0.20.16;]',\n",
      "  'c': 'AU',\n",
      "  'cy': 'Perth',\n",
      "  'g': '1H8wL5d',\n",
      "  'h': '1H8wL5c',\n",
      "  'nk': 1,\n",
      "  't': 1427288399,\n",
      "  'tz': 'Australia/West',\n",
      "  'u': 'http://www.airasia.com/au/en/promotion/rr0550905.page?utm_source=facebook\\\\u0026utm_medium=organic\\\\u0026utm_campaign=aa_au_se\\\\u0026utm_term=SE_Mar15_AU'},\n",
      " {'a': 'Mozilla/5.0 (compatible; MSIE 9.0; Windows NT 6.1; WOW64; '\n",
      "       'Trident/5.0; SLCC2; .NET CLR 2.0.50727; .NET4.0C; .NET4.0E; 360SE)',\n",
      "  'c': 'US',\n",
      "  'cy': 'Mountain View',\n",
      "  'g': '1lj67KQ',\n",
      "  'h': '1xupVE6',\n",
      "  'mc': 807,\n",
      "  'nk': 0,\n",
      "  't': 1427288399,\n",
      "  'tz': 'America/Los_Angeles',\n",
      "  'u': 'https://cdn.adf.ly/js/display.js'}]\n"
     ]
    }
   ],
   "source": [
    "pprint.pprint(json_holder[:2])"
   ]
  },
  {
   "cell_type": "markdown",
   "metadata": {},
   "source": [
    "## feature enginnering "
   ]
  },
  {
   "cell_type": "code",
   "execution_count": 44,
   "metadata": {
    "collapsed": true
   },
   "outputs": [],
   "source": [
    "from pandas.io.json import json_normalize"
   ]
  },
  {
   "cell_type": "code",
   "execution_count": 45,
   "metadata": {
    "collapsed": true
   },
   "outputs": [],
   "source": [
    "json_normalize?"
   ]
  },
  {
   "cell_type": "code",
   "execution_count": 47,
   "metadata": {
    "collapsed": false
   },
   "outputs": [
    {
     "name": "stdout",
     "output_type": "stream",
     "text": [
      "[{'counties': [{'name': 'Dade', 'population': 12345},\n",
      "               {'name': 'Broward', 'population': 40000},\n",
      "               {'name': 'Palm Beach', 'population': 60000}],\n",
      "  'info': {'governor': 'Rick Scott'},\n",
      "  'shortname': 'FL',\n",
      "  'state': 'Florida'},\n",
      " {'counties': [{'name': 'Summit', 'population': 1234},\n",
      "               {'name': 'Cuyahoga', 'population': 1337}],\n",
      "  'info': {'governor': 'John Kasich'},\n",
      "  'shortname': 'OH',\n",
      "  'state': 'Ohio'}]\n"
     ]
    }
   ],
   "source": [
    "data = [{'state': 'Florida',\n",
    "        'shortname': 'FL',\n",
    "          'info': {\n",
    "              'governor': 'Rick Scott'\n",
    "        },\n",
    "        'counties': [{'name': 'Dade', 'population': 12345},\n",
    "                     {'name': 'Broward', 'population': 40000},\n",
    "                     {'name': 'Palm Beach', 'population': 60000}]},\n",
    "        {'state': 'Ohio',\n",
    "        'shortname': 'OH',\n",
    "          'info': {\n",
    "              'governor': 'John Kasich'\n",
    "         },\n",
    "         'counties': [{'name': 'Summit', 'population': 1234},\n",
    "                     {'name': 'Cuyahoga', 'population': 1337}]}]\n",
    "pprint.pprint(data)"
   ]
  },
  {
   "cell_type": "code",
   "execution_count": 55,
   "metadata": {
    "collapsed": false
   },
   "outputs": [
    {
     "data": {
      "text/html": [
       "<div>\n",
       "<table border=\"1\" class=\"dataframe\">\n",
       "  <thead>\n",
       "    <tr style=\"text-align: right;\">\n",
       "      <th></th>\n",
       "      <th>name</th>\n",
       "      <th>population</th>\n",
       "      <th>info.governor</th>\n",
       "      <th>shortname</th>\n",
       "      <th>state</th>\n",
       "    </tr>\n",
       "  </thead>\n",
       "  <tbody>\n",
       "    <tr>\n",
       "      <th>0</th>\n",
       "      <td>Dade</td>\n",
       "      <td>12345</td>\n",
       "      <td>Rick Scott</td>\n",
       "      <td>FL</td>\n",
       "      <td>Florida</td>\n",
       "    </tr>\n",
       "    <tr>\n",
       "      <th>1</th>\n",
       "      <td>Broward</td>\n",
       "      <td>40000</td>\n",
       "      <td>Rick Scott</td>\n",
       "      <td>FL</td>\n",
       "      <td>Florida</td>\n",
       "    </tr>\n",
       "    <tr>\n",
       "      <th>2</th>\n",
       "      <td>Palm Beach</td>\n",
       "      <td>60000</td>\n",
       "      <td>Rick Scott</td>\n",
       "      <td>FL</td>\n",
       "      <td>Florida</td>\n",
       "    </tr>\n",
       "    <tr>\n",
       "      <th>3</th>\n",
       "      <td>Summit</td>\n",
       "      <td>1234</td>\n",
       "      <td>John Kasich</td>\n",
       "      <td>OH</td>\n",
       "      <td>Ohio</td>\n",
       "    </tr>\n",
       "    <tr>\n",
       "      <th>4</th>\n",
       "      <td>Cuyahoga</td>\n",
       "      <td>1337</td>\n",
       "      <td>John Kasich</td>\n",
       "      <td>OH</td>\n",
       "      <td>Ohio</td>\n",
       "    </tr>\n",
       "  </tbody>\n",
       "</table>\n",
       "</div>"
      ],
      "text/plain": [
       "         name  population info.governor shortname    state\n",
       "0        Dade       12345    Rick Scott        FL  Florida\n",
       "1     Broward       40000    Rick Scott        FL  Florida\n",
       "2  Palm Beach       60000    Rick Scott        FL  Florida\n",
       "3      Summit        1234   John Kasich        OH     Ohio\n",
       "4    Cuyahoga        1337   John Kasich        OH     Ohio"
      ]
     },
     "execution_count": 55,
     "metadata": {},
     "output_type": "execute_result"
    }
   ],
   "source": [
    "json_normalize(data, record_path=['counties'], \n",
    "               meta=['state', 'shortname', ['info', 'governor']])"
   ]
  },
  {
   "cell_type": "code",
   "execution_count": 49,
   "metadata": {
    "collapsed": true
   },
   "outputs": [],
   "source": [
    "json_normalize?"
   ]
  },
  {
   "cell_type": "code",
   "execution_count": null,
   "metadata": {
    "collapsed": true
   },
   "outputs": [],
   "source": []
  },
  {
   "cell_type": "code",
   "execution_count": null,
   "metadata": {
    "collapsed": true
   },
   "outputs": [],
   "source": []
  },
  {
   "cell_type": "code",
   "execution_count": null,
   "metadata": {
    "collapsed": true
   },
   "outputs": [],
   "source": []
  },
  {
   "cell_type": "code",
   "execution_count": null,
   "metadata": {
    "collapsed": true
   },
   "outputs": [],
   "source": []
  },
  {
   "cell_type": "code",
   "execution_count": 4,
   "metadata": {
    "collapsed": false
   },
   "outputs": [],
   "source": [
    "# extract label and features from json\n",
    "# label is browser\n",
    "# features include t, c, nk, kw, ckw, cy, tz\n",
    "df = []\n",
    "\n",
    "for item in json_holder[:100000]:\n",
    "    try: # try to extract broswer from user agent string\n",
    "        browser = parse(item['a']).browser.family\n",
    "    except:\n",
    "        broswer = None\n",
    "        \n",
    "    # extract features\n",
    "    user_hash = item.get('h', None)\n",
    "    global_hash = item.get('g', None)\n",
    "    url = item.get('u', None)\n",
    "    time = item.get('t', None)\n",
    "    country = item.get('c', None)\n",
    "    repeat_client = item.get('nk', None)\n",
    "    keyword_alias = item.get('kw', None) \n",
    "    custom_keyword = item.get('ckw', None)\n",
    "    city = item.get('cy', None)\n",
    "    timezone = item.get('tz', None)\n",
    "    \n",
    "    df.append([browser, user_hash, global_hash, url, time, country, repeat_client, \n",
    "               keyword_alias, custom_keyword, city, timezone])\n",
    "    df1 = pd.DataFrame(df, columns=['browser', 'user_hash', 'global_hash', 'url', 'time', \n",
    "                                    'country', 'repeat_client', 'keyword_alias', \n",
    "                                    'custom_keyword', 'city', 'timezone'])"
   ]
  },
  {
   "cell_type": "code",
   "execution_count": 5,
   "metadata": {
    "collapsed": true
   },
   "outputs": [],
   "source": [
    "del df"
   ]
  },
  {
   "cell_type": "code",
   "execution_count": 6,
   "metadata": {
    "collapsed": false
   },
   "outputs": [
    {
     "data": {
      "text/html": [
       "<div>\n",
       "<table border=\"1\" class=\"dataframe\">\n",
       "  <thead>\n",
       "    <tr style=\"text-align: right;\">\n",
       "      <th></th>\n",
       "      <th>browser</th>\n",
       "      <th>user_hash</th>\n",
       "      <th>global_hash</th>\n",
       "      <th>url</th>\n",
       "      <th>time</th>\n",
       "      <th>country</th>\n",
       "      <th>repeat_client</th>\n",
       "      <th>keyword_alias</th>\n",
       "      <th>custom_keyword</th>\n",
       "      <th>city</th>\n",
       "      <th>timezone</th>\n",
       "    </tr>\n",
       "  </thead>\n",
       "  <tbody>\n",
       "    <tr>\n",
       "      <th>0</th>\n",
       "      <td>Facebook</td>\n",
       "      <td>1H8wL5c</td>\n",
       "      <td>1H8wL5d</td>\n",
       "      <td>http://www.airasia.com/au/en/promotion/rr05509...</td>\n",
       "      <td>1427288399</td>\n",
       "      <td>AU</td>\n",
       "      <td>1</td>\n",
       "      <td>None</td>\n",
       "      <td>None</td>\n",
       "      <td>Perth</td>\n",
       "      <td>Australia/West</td>\n",
       "    </tr>\n",
       "    <tr>\n",
       "      <th>1</th>\n",
       "      <td>IE</td>\n",
       "      <td>1xupVE6</td>\n",
       "      <td>1lj67KQ</td>\n",
       "      <td>https://cdn.adf.ly/js/display.js</td>\n",
       "      <td>1427288399</td>\n",
       "      <td>US</td>\n",
       "      <td>0</td>\n",
       "      <td>None</td>\n",
       "      <td>None</td>\n",
       "      <td>Mountain View</td>\n",
       "      <td>America/Los_Angeles</td>\n",
       "    </tr>\n",
       "    <tr>\n",
       "      <th>2</th>\n",
       "      <td>IE</td>\n",
       "      <td>1xupVE6</td>\n",
       "      <td>1lj67KQ</td>\n",
       "      <td>https://cdn.adf.ly/js/display.js</td>\n",
       "      <td>1427288399</td>\n",
       "      <td>US</td>\n",
       "      <td>0</td>\n",
       "      <td>None</td>\n",
       "      <td>None</td>\n",
       "      <td>Buffalo</td>\n",
       "      <td>America/New_York</td>\n",
       "    </tr>\n",
       "    <tr>\n",
       "      <th>3</th>\n",
       "      <td>Facebook</td>\n",
       "      <td>1z7y10j</td>\n",
       "      <td>1z7y10k</td>\n",
       "      <td>https://predikta.com/Account/Register</td>\n",
       "      <td>1427288399</td>\n",
       "      <td>GB</td>\n",
       "      <td>1</td>\n",
       "      <td>None</td>\n",
       "      <td>None</td>\n",
       "      <td>Leicester</td>\n",
       "      <td>Europe/London</td>\n",
       "    </tr>\n",
       "    <tr>\n",
       "      <th>4</th>\n",
       "      <td>Mobile Safari</td>\n",
       "      <td>1pv5AIm</td>\n",
       "      <td>1pv5AIn</td>\n",
       "      <td>http://www.hasbro.com/en_US/brands/telepods/tr...</td>\n",
       "      <td>1427288399</td>\n",
       "      <td>CN</td>\n",
       "      <td>0</td>\n",
       "      <td>RTLPHT0814</td>\n",
       "      <td>None</td>\n",
       "      <td>Shanghai</td>\n",
       "      <td>Asia/Shanghai</td>\n",
       "    </tr>\n",
       "  </tbody>\n",
       "</table>\n",
       "</div>"
      ],
      "text/plain": [
       "         browser user_hash global_hash  \\\n",
       "0       Facebook   1H8wL5c     1H8wL5d   \n",
       "1             IE   1xupVE6     1lj67KQ   \n",
       "2             IE   1xupVE6     1lj67KQ   \n",
       "3       Facebook   1z7y10j     1z7y10k   \n",
       "4  Mobile Safari   1pv5AIm     1pv5AIn   \n",
       "\n",
       "                                                 url        time country  \\\n",
       "0  http://www.airasia.com/au/en/promotion/rr05509...  1427288399      AU   \n",
       "1                   https://cdn.adf.ly/js/display.js  1427288399      US   \n",
       "2                   https://cdn.adf.ly/js/display.js  1427288399      US   \n",
       "3              https://predikta.com/Account/Register  1427288399      GB   \n",
       "4  http://www.hasbro.com/en_US/brands/telepods/tr...  1427288399      CN   \n",
       "\n",
       "   repeat_client keyword_alias custom_keyword           city  \\\n",
       "0              1          None           None          Perth   \n",
       "1              0          None           None  Mountain View   \n",
       "2              0          None           None        Buffalo   \n",
       "3              1          None           None      Leicester   \n",
       "4              0    RTLPHT0814           None       Shanghai   \n",
       "\n",
       "              timezone  \n",
       "0       Australia/West  \n",
       "1  America/Los_Angeles  \n",
       "2     America/New_York  \n",
       "3        Europe/London  \n",
       "4        Asia/Shanghai  "
      ]
     },
     "execution_count": 6,
     "metadata": {},
     "output_type": "execute_result"
    }
   ],
   "source": [
    "df1.head()"
   ]
  },
  {
   "cell_type": "code",
   "execution_count": 7,
   "metadata": {
    "collapsed": false
   },
   "outputs": [],
   "source": [
    "# convert categorical label into dummy values\n",
    "from sklearn.preprocessing import LabelEncoder\n",
    "le = LabelEncoder()\n",
    "df1['label'] = le.fit_transform(df1.browser)"
   ]
  },
  {
   "cell_type": "code",
   "execution_count": 8,
   "metadata": {
    "collapsed": false
   },
   "outputs": [
    {
     "data": {
      "text/html": [
       "<div>\n",
       "<table border=\"1\" class=\"dataframe\">\n",
       "  <thead>\n",
       "    <tr style=\"text-align: right;\">\n",
       "      <th></th>\n",
       "      <th>browser</th>\n",
       "      <th>user_hash</th>\n",
       "      <th>global_hash</th>\n",
       "      <th>url</th>\n",
       "      <th>time</th>\n",
       "      <th>country</th>\n",
       "      <th>repeat_client</th>\n",
       "      <th>keyword_alias</th>\n",
       "      <th>custom_keyword</th>\n",
       "      <th>city</th>\n",
       "      <th>timezone</th>\n",
       "      <th>label</th>\n",
       "    </tr>\n",
       "  </thead>\n",
       "  <tbody>\n",
       "    <tr>\n",
       "      <th>0</th>\n",
       "      <td>Facebook</td>\n",
       "      <td>1H8wL5c</td>\n",
       "      <td>1H8wL5d</td>\n",
       "      <td>http://www.airasia.com/au/en/promotion/rr05509...</td>\n",
       "      <td>1427288399</td>\n",
       "      <td>AU</td>\n",
       "      <td>1</td>\n",
       "      <td>None</td>\n",
       "      <td>None</td>\n",
       "      <td>Perth</td>\n",
       "      <td>Australia/West</td>\n",
       "      <td>3</td>\n",
       "    </tr>\n",
       "    <tr>\n",
       "      <th>1</th>\n",
       "      <td>IE</td>\n",
       "      <td>1xupVE6</td>\n",
       "      <td>1lj67KQ</td>\n",
       "      <td>https://cdn.adf.ly/js/display.js</td>\n",
       "      <td>1427288399</td>\n",
       "      <td>US</td>\n",
       "      <td>0</td>\n",
       "      <td>None</td>\n",
       "      <td>None</td>\n",
       "      <td>Mountain View</td>\n",
       "      <td>America/Los_Angeles</td>\n",
       "      <td>5</td>\n",
       "    </tr>\n",
       "    <tr>\n",
       "      <th>2</th>\n",
       "      <td>IE</td>\n",
       "      <td>1xupVE6</td>\n",
       "      <td>1lj67KQ</td>\n",
       "      <td>https://cdn.adf.ly/js/display.js</td>\n",
       "      <td>1427288399</td>\n",
       "      <td>US</td>\n",
       "      <td>0</td>\n",
       "      <td>None</td>\n",
       "      <td>None</td>\n",
       "      <td>Buffalo</td>\n",
       "      <td>America/New_York</td>\n",
       "      <td>5</td>\n",
       "    </tr>\n",
       "    <tr>\n",
       "      <th>3</th>\n",
       "      <td>Facebook</td>\n",
       "      <td>1z7y10j</td>\n",
       "      <td>1z7y10k</td>\n",
       "      <td>https://predikta.com/Account/Register</td>\n",
       "      <td>1427288399</td>\n",
       "      <td>GB</td>\n",
       "      <td>1</td>\n",
       "      <td>None</td>\n",
       "      <td>None</td>\n",
       "      <td>Leicester</td>\n",
       "      <td>Europe/London</td>\n",
       "      <td>3</td>\n",
       "    </tr>\n",
       "    <tr>\n",
       "      <th>4</th>\n",
       "      <td>Mobile Safari</td>\n",
       "      <td>1pv5AIm</td>\n",
       "      <td>1pv5AIn</td>\n",
       "      <td>http://www.hasbro.com/en_US/brands/telepods/tr...</td>\n",
       "      <td>1427288399</td>\n",
       "      <td>CN</td>\n",
       "      <td>0</td>\n",
       "      <td>RTLPHT0814</td>\n",
       "      <td>None</td>\n",
       "      <td>Shanghai</td>\n",
       "      <td>Asia/Shanghai</td>\n",
       "      <td>7</td>\n",
       "    </tr>\n",
       "  </tbody>\n",
       "</table>\n",
       "</div>"
      ],
      "text/plain": [
       "         browser user_hash global_hash  \\\n",
       "0       Facebook   1H8wL5c     1H8wL5d   \n",
       "1             IE   1xupVE6     1lj67KQ   \n",
       "2             IE   1xupVE6     1lj67KQ   \n",
       "3       Facebook   1z7y10j     1z7y10k   \n",
       "4  Mobile Safari   1pv5AIm     1pv5AIn   \n",
       "\n",
       "                                                 url        time country  \\\n",
       "0  http://www.airasia.com/au/en/promotion/rr05509...  1427288399      AU   \n",
       "1                   https://cdn.adf.ly/js/display.js  1427288399      US   \n",
       "2                   https://cdn.adf.ly/js/display.js  1427288399      US   \n",
       "3              https://predikta.com/Account/Register  1427288399      GB   \n",
       "4  http://www.hasbro.com/en_US/brands/telepods/tr...  1427288399      CN   \n",
       "\n",
       "   repeat_client keyword_alias custom_keyword           city  \\\n",
       "0              1          None           None          Perth   \n",
       "1              0          None           None  Mountain View   \n",
       "2              0          None           None        Buffalo   \n",
       "3              1          None           None      Leicester   \n",
       "4              0    RTLPHT0814           None       Shanghai   \n",
       "\n",
       "              timezone  label  \n",
       "0       Australia/West      3  \n",
       "1  America/Los_Angeles      5  \n",
       "2     America/New_York      5  \n",
       "3        Europe/London      3  \n",
       "4        Asia/Shanghai      7  "
      ]
     },
     "execution_count": 8,
     "metadata": {},
     "output_type": "execute_result"
    }
   ],
   "source": [
    "df1.head()"
   ]
  },
  {
   "cell_type": "code",
   "execution_count": 9,
   "metadata": {
    "collapsed": false
   },
   "outputs": [
    {
     "data": {
      "text/plain": [
       "0     False\n",
       "1      True\n",
       "2      True\n",
       "3      True\n",
       "4     False\n",
       "5      True\n",
       "6     False\n",
       "7     False\n",
       "8     False\n",
       "9     False\n",
       "10    False\n",
       "11    False\n",
       "12    False\n",
       "13    False\n",
       "14    False\n",
       "15    False\n",
       "16    False\n",
       "17    False\n",
       "18    False\n",
       "19     True\n",
       "20     True\n",
       "21    False\n",
       "22    False\n",
       "23    False\n",
       "24    False\n",
       "25    False\n",
       "26     True\n",
       "27     True\n",
       "28    False\n",
       "29    False\n",
       "30    False\n",
       "31    False\n",
       "32     True\n",
       "33    False\n",
       "34    False\n",
       "35     True\n",
       "36    False\n",
       "37    False\n",
       "38    False\n",
       "39    False\n",
       "40    False\n",
       "41    False\n",
       "42     True\n",
       "43    False\n",
       "44    False\n",
       "45     True\n",
       "46    False\n",
       "47    False\n",
       "48     True\n",
       "49    False\n",
       "50    False\n",
       "51    False\n",
       "52    False\n",
       "53     True\n",
       "54    False\n",
       "55    False\n",
       "56    False\n",
       "57    False\n",
       "58    False\n",
       "59    False\n",
       "60    False\n",
       "61    False\n",
       "62    False\n",
       "63    False\n",
       "64    False\n",
       "65    False\n",
       "66    False\n",
       "67    False\n",
       "68    False\n",
       "69    False\n",
       "70    False\n",
       "71    False\n",
       "72    False\n",
       "73    False\n",
       "74    False\n",
       "75    False\n",
       "76    False\n",
       "77     True\n",
       "78    False\n",
       "79    False\n",
       "80     True\n",
       "81     True\n",
       "82    False\n",
       "83    False\n",
       "84    False\n",
       "85     True\n",
       "86    False\n",
       "87    False\n",
       "88    False\n",
       "89     True\n",
       "90    False\n",
       "91    False\n",
       "92    False\n",
       "93     True\n",
       "94    False\n",
       "95    False\n",
       "96    False\n",
       "97     True\n",
       "98    False\n",
       "99    False\n",
       "Name: url, dtype: bool"
      ]
     },
     "execution_count": 9,
     "metadata": {},
     "output_type": "execute_result"
    }
   ],
   "source": [
    "df1.url.apply(lambda url: url.startswith('https'))"
   ]
  },
  {
   "cell_type": "code",
   "execution_count": 10,
   "metadata": {
    "collapsed": true
   },
   "outputs": [],
   "source": [
    "import datetime"
   ]
  },
  {
   "cell_type": "code",
   "execution_count": 13,
   "metadata": {
    "collapsed": false
   },
   "outputs": [],
   "source": [
    "ts = df1.time.apply(lambda time: datetime.datetime.fromtimestamp(int(time)))"
   ]
  },
  {
   "cell_type": "code",
   "execution_count": 35,
   "metadata": {
    "collapsed": false
   },
   "outputs": [
    {
     "data": {
      "text/plain": [
       "datetime.datetime(2015, 3, 25, 12, 59, 59)"
      ]
     },
     "execution_count": 35,
     "metadata": {},
     "output_type": "execute_result"
    }
   ],
   "source": [
    "datetime.datetime.utcfromtimestamp(df1.time[1])"
   ]
  },
  {
   "cell_type": "code",
   "execution_count": 21,
   "metadata": {
    "collapsed": false
   },
   "outputs": [],
   "source": [
    "t = datetime.datetime.fromtimestamp(df1.time[1])"
   ]
  },
  {
   "cell_type": "code",
   "execution_count": 37,
   "metadata": {
    "collapsed": true
   },
   "outputs": [],
   "source": [
    "from datetime import datetime"
   ]
  },
  {
   "cell_type": "code",
   "execution_count": 14,
   "metadata": {
    "collapsed": false
   },
   "outputs": [
    {
     "data": {
      "text/plain": [
       "1427288399"
      ]
     },
     "execution_count": 14,
     "metadata": {},
     "output_type": "execute_result"
    }
   ],
   "source": [
    "df1.time[1]"
   ]
  },
  {
   "cell_type": "code",
   "execution_count": 28,
   "metadata": {
    "collapsed": false
   },
   "outputs": [
    {
     "data": {
      "text/plain": [
       "<function datetime.fromtimestamp>"
      ]
     },
     "execution_count": 28,
     "metadata": {},
     "output_type": "execute_result"
    }
   ],
   "source": [
    "datetime.datetime.fromtimestamp"
   ]
  },
  {
   "cell_type": "code",
   "execution_count": 26,
   "metadata": {
    "collapsed": false
   },
   "outputs": [
    {
     "ename": "TypeError",
     "evalue": "tzinfo argument must be None or of a tzinfo subclass, not type 'str'",
     "output_type": "error",
     "traceback": [
      "\u001b[1;31m---------------------------------------------------------------------------\u001b[0m",
      "\u001b[1;31mTypeError\u001b[0m                                 Traceback (most recent call last)",
      "\u001b[1;32m<ipython-input-26-bcb8ac056e45>\u001b[0m in \u001b[0;36m<module>\u001b[1;34m()\u001b[0m\n\u001b[1;32m----> 1\u001b[1;33m \u001b[0mdatetime\u001b[0m\u001b[1;33m.\u001b[0m\u001b[0mdatetime\u001b[0m\u001b[1;33m.\u001b[0m\u001b[0mfromtimestamp\u001b[0m\u001b[1;33m(\u001b[0m\u001b[0mdf1\u001b[0m\u001b[1;33m.\u001b[0m\u001b[0mix\u001b[0m\u001b[1;33m[\u001b[0m\u001b[1;36m1\u001b[0m\u001b[1;33m,\u001b[0m \u001b[1;34m'time'\u001b[0m\u001b[1;33m]\u001b[0m \u001b[1;33m,\u001b[0m \u001b[0mtz\u001b[0m\u001b[1;33m=\u001b[0m\u001b[1;34m'utc'\u001b[0m\u001b[1;33m)\u001b[0m\u001b[1;33m\u001b[0m\u001b[0m\n\u001b[0m",
      "\u001b[1;31mTypeError\u001b[0m: tzinfo argument must be None or of a tzinfo subclass, not type 'str'"
     ]
    }
   ],
   "source": [
    "datetime.datetime.fromtimestamp(df1.ix[1, 'time'] , tz='utc')"
   ]
  },
  {
   "cell_type": "code",
   "execution_count": 17,
   "metadata": {
    "collapsed": false
   },
   "outputs": [
    {
     "data": {
      "text/html": [
       "<div>\n",
       "<table border=\"1\" class=\"dataframe\">\n",
       "  <thead>\n",
       "    <tr style=\"text-align: right;\">\n",
       "      <th></th>\n",
       "      <th>browser</th>\n",
       "      <th>user_hash</th>\n",
       "      <th>global_hash</th>\n",
       "      <th>url</th>\n",
       "      <th>time</th>\n",
       "      <th>country</th>\n",
       "      <th>repeat_client</th>\n",
       "      <th>keyword_alias</th>\n",
       "      <th>custom_keyword</th>\n",
       "      <th>city</th>\n",
       "      <th>timezone</th>\n",
       "      <th>label</th>\n",
       "    </tr>\n",
       "  </thead>\n",
       "  <tbody>\n",
       "    <tr>\n",
       "      <th>0</th>\n",
       "      <td>Facebook</td>\n",
       "      <td>1H8wL5c</td>\n",
       "      <td>1H8wL5d</td>\n",
       "      <td>http://www.airasia.com/au/en/promotion/rr05509...</td>\n",
       "      <td>1427288399</td>\n",
       "      <td>AU</td>\n",
       "      <td>1</td>\n",
       "      <td>None</td>\n",
       "      <td>None</td>\n",
       "      <td>Perth</td>\n",
       "      <td>Australia/West</td>\n",
       "      <td>3</td>\n",
       "    </tr>\n",
       "    <tr>\n",
       "      <th>1</th>\n",
       "      <td>IE</td>\n",
       "      <td>1xupVE6</td>\n",
       "      <td>1lj67KQ</td>\n",
       "      <td>https://cdn.adf.ly/js/display.js</td>\n",
       "      <td>1427288399</td>\n",
       "      <td>US</td>\n",
       "      <td>0</td>\n",
       "      <td>None</td>\n",
       "      <td>None</td>\n",
       "      <td>Mountain View</td>\n",
       "      <td>America/Los_Angeles</td>\n",
       "      <td>5</td>\n",
       "    </tr>\n",
       "    <tr>\n",
       "      <th>2</th>\n",
       "      <td>IE</td>\n",
       "      <td>1xupVE6</td>\n",
       "      <td>1lj67KQ</td>\n",
       "      <td>https://cdn.adf.ly/js/display.js</td>\n",
       "      <td>1427288399</td>\n",
       "      <td>US</td>\n",
       "      <td>0</td>\n",
       "      <td>None</td>\n",
       "      <td>None</td>\n",
       "      <td>Buffalo</td>\n",
       "      <td>America/New_York</td>\n",
       "      <td>5</td>\n",
       "    </tr>\n",
       "    <tr>\n",
       "      <th>3</th>\n",
       "      <td>Facebook</td>\n",
       "      <td>1z7y10j</td>\n",
       "      <td>1z7y10k</td>\n",
       "      <td>https://predikta.com/Account/Register</td>\n",
       "      <td>1427288399</td>\n",
       "      <td>GB</td>\n",
       "      <td>1</td>\n",
       "      <td>None</td>\n",
       "      <td>None</td>\n",
       "      <td>Leicester</td>\n",
       "      <td>Europe/London</td>\n",
       "      <td>3</td>\n",
       "    </tr>\n",
       "    <tr>\n",
       "      <th>4</th>\n",
       "      <td>Mobile Safari</td>\n",
       "      <td>1pv5AIm</td>\n",
       "      <td>1pv5AIn</td>\n",
       "      <td>http://www.hasbro.com/en_US/brands/telepods/tr...</td>\n",
       "      <td>1427288399</td>\n",
       "      <td>CN</td>\n",
       "      <td>0</td>\n",
       "      <td>RTLPHT0814</td>\n",
       "      <td>None</td>\n",
       "      <td>Shanghai</td>\n",
       "      <td>Asia/Shanghai</td>\n",
       "      <td>7</td>\n",
       "    </tr>\n",
       "  </tbody>\n",
       "</table>\n",
       "</div>"
      ],
      "text/plain": [
       "         browser user_hash global_hash  \\\n",
       "0       Facebook   1H8wL5c     1H8wL5d   \n",
       "1             IE   1xupVE6     1lj67KQ   \n",
       "2             IE   1xupVE6     1lj67KQ   \n",
       "3       Facebook   1z7y10j     1z7y10k   \n",
       "4  Mobile Safari   1pv5AIm     1pv5AIn   \n",
       "\n",
       "                                                 url        time country  \\\n",
       "0  http://www.airasia.com/au/en/promotion/rr05509...  1427288399      AU   \n",
       "1                   https://cdn.adf.ly/js/display.js  1427288399      US   \n",
       "2                   https://cdn.adf.ly/js/display.js  1427288399      US   \n",
       "3              https://predikta.com/Account/Register  1427288399      GB   \n",
       "4  http://www.hasbro.com/en_US/brands/telepods/tr...  1427288399      CN   \n",
       "\n",
       "   repeat_client keyword_alias custom_keyword           city  \\\n",
       "0              1          None           None          Perth   \n",
       "1              0          None           None  Mountain View   \n",
       "2              0          None           None        Buffalo   \n",
       "3              1          None           None      Leicester   \n",
       "4              0    RTLPHT0814           None       Shanghai   \n",
       "\n",
       "              timezone  label  \n",
       "0       Australia/West      3  \n",
       "1  America/Los_Angeles      5  \n",
       "2     America/New_York      5  \n",
       "3        Europe/London      3  \n",
       "4        Asia/Shanghai      7  "
      ]
     },
     "execution_count": 17,
     "metadata": {},
     "output_type": "execute_result"
    }
   ],
   "source": [
    "df1.head()"
   ]
  },
  {
   "cell_type": "code",
   "execution_count": 20,
   "metadata": {
    "collapsed": false
   },
   "outputs": [
    {
     "data": {
      "text/plain": [
       "'America/Los_Angeles'"
      ]
     },
     "execution_count": 20,
     "metadata": {},
     "output_type": "execute_result"
    }
   ],
   "source": [
    "df1.ix[1, 'timezone']"
   ]
  },
  {
   "cell_type": "code",
   "execution_count": 22,
   "metadata": {
    "collapsed": false
   },
   "outputs": [
    {
     "data": {
      "text/plain": [
       "datetime.datetime(2015, 3, 25, 12, 59, 59)"
      ]
     },
     "execution_count": 22,
     "metadata": {},
     "output_type": "execute_result"
    }
   ],
   "source": [
    "t"
   ]
  },
  {
   "cell_type": "code",
   "execution_count": 38,
   "metadata": {
    "collapsed": false
   },
   "outputs": [
    {
     "data": {
      "text/plain": [
       "12"
      ]
     },
     "execution_count": 38,
     "metadata": {},
     "output_type": "execute_result"
    }
   ],
   "source": [
    "t_utc = pd.Timestamp(t, tz='utc')\n",
    "t_utc.hour"
   ]
  },
  {
   "cell_type": "code",
   "execution_count": 35,
   "metadata": {
    "collapsed": false
   },
   "outputs": [],
   "source": [
    "t_local = t_utc.tz_convert(df1.ix[1, 'timezone'])"
   ]
  },
  {
   "cell_type": "code",
   "execution_count": 36,
   "metadata": {
    "collapsed": false
   },
   "outputs": [
    {
     "data": {
      "text/plain": [
       "Timestamp('2015-03-25 05:59:59-0700', tz='America/Los_Angeles')"
      ]
     },
     "execution_count": 36,
     "metadata": {},
     "output_type": "execute_result"
    }
   ],
   "source": [
    "t_local"
   ]
  },
  {
   "cell_type": "code",
   "execution_count": 37,
   "metadata": {
    "collapsed": false
   },
   "outputs": [
    {
     "data": {
      "text/plain": [
       "5"
      ]
     },
     "execution_count": 37,
     "metadata": {},
     "output_type": "execute_result"
    }
   ],
   "source": [
    "t_local.hour"
   ]
  },
  {
   "cell_type": "code",
   "execution_count": 39,
   "metadata": {
    "collapsed": true
   },
   "outputs": [],
   "source": [
    "pd.Timestamp?"
   ]
  },
  {
   "cell_type": "code",
   "execution_count": null,
   "metadata": {
    "collapsed": true
   },
   "outputs": [],
   "source": []
  },
  {
   "cell_type": "code",
   "execution_count": null,
   "metadata": {
    "collapsed": true
   },
   "outputs": [],
   "source": []
  },
  {
   "cell_type": "code",
   "execution_count": null,
   "metadata": {
    "collapsed": true
   },
   "outputs": [],
   "source": []
  },
  {
   "cell_type": "code",
   "execution_count": null,
   "metadata": {
    "collapsed": true
   },
   "outputs": [],
   "source": []
  },
  {
   "cell_type": "code",
   "execution_count": null,
   "metadata": {
    "collapsed": true
   },
   "outputs": [],
   "source": []
  },
  {
   "cell_type": "code",
   "execution_count": null,
   "metadata": {
    "collapsed": true
   },
   "outputs": [],
   "source": []
  },
  {
   "cell_type": "code",
   "execution_count": null,
   "metadata": {
    "collapsed": true
   },
   "outputs": [],
   "source": []
  },
  {
   "cell_type": "code",
   "execution_count": null,
   "metadata": {
    "collapsed": true
   },
   "outputs": [],
   "source": []
  },
  {
   "cell_type": "code",
   "execution_count": null,
   "metadata": {
    "collapsed": true
   },
   "outputs": [],
   "source": []
  },
  {
   "cell_type": "code",
   "execution_count": null,
   "metadata": {
    "collapsed": true
   },
   "outputs": [],
   "source": []
  },
  {
   "cell_type": "code",
   "execution_count": null,
   "metadata": {
    "collapsed": true
   },
   "outputs": [],
   "source": []
  },
  {
   "cell_type": "code",
   "execution_count": null,
   "metadata": {
    "collapsed": true
   },
   "outputs": [],
   "source": []
  },
  {
   "cell_type": "code",
   "execution_count": null,
   "metadata": {
    "collapsed": true
   },
   "outputs": [],
   "source": []
  }
 ],
 "metadata": {
  "kernelspec": {
   "display_name": "Python 3",
   "language": "python",
   "name": "python3"
  },
  "language_info": {
   "codemirror_mode": {
    "name": "ipython",
    "version": 3
   },
   "file_extension": ".py",
   "mimetype": "text/x-python",
   "name": "python",
   "nbconvert_exporter": "python",
   "pygments_lexer": "ipython3",
   "version": "3.4.3"
  }
 },
 "nbformat": 4,
 "nbformat_minor": 0
}
