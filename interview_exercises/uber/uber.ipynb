{
 "cells": [
  {
   "cell_type": "code",
   "execution_count": 2,
   "metadata": {
    "collapsed": false
   },
   "outputs": [
    {
     "data": {
      "text/html": [
       "<style>.container { width:95% !important; }</style>"
      ],
      "text/plain": [
       "<IPython.core.display.HTML object>"
      ]
     },
     "execution_count": 2,
     "metadata": {},
     "output_type": "execute_result"
    }
   ],
   "source": [
    "from IPython.core.display import HTML\n",
    "HTML(\"<style>.container { width:95% !important; }</style>\")"
   ]
  },
  {
   "cell_type": "code",
   "execution_count": 97,
   "metadata": {
    "collapsed": true
   },
   "outputs": [],
   "source": [
    "import numpy as np\n",
    "import pandas as pd\n",
    "pd.set_option('display.max_rows', 500)\n",
    "pd.set_option('display.max_columns', 500)\n",
    "\n",
    "import matplotlib.pyplot as plt\n",
    "%matplotlib inline\n",
    "plt.style.use('ggplot')\n",
    "import seaborn as sns\n",
    "sns.set(style=\"whitegrid\", color_codes=True)\n",
    "\n",
    "# import models \n",
    "from sklearn.ensemble import RandomForestClassifier\n",
    "# from sklearn.ensemble import ExtraTreesClassifier\n",
    "# from sklearn.ensemble import GradientBoostingClassifier\n",
    "from sklearn.ensemble import RandomForestRegressor\n",
    "\n",
    "# preprocessing data\n",
    "from sklearn.preprocessing import Imputer, StandardScaler\n",
    "\n",
    "# use cross-validation\n",
    "from sklearn.cross_validation import train_test_split, cross_val_score\n",
    "from sklearn.grid_search import GridSearchCV\n",
    "\n",
    "# import peformance metrics \n",
    "from sklearn.metrics import f1_score, accuracy_score, confusion_matrix, mean_squared_error, r2_score\n",
    "from sklearn.metrics import mean_absolute_error\n",
    "\n",
    "from sklearn.pipeline import Pipeline"
   ]
  },
  {
   "cell_type": "markdown",
   "metadata": {},
   "source": [
    "# Part 1 - SQL"
   ]
  },
  {
   "cell_type": "markdown",
   "metadata": {},
   "source": [
    "## 1. Between Oct 1, 2013 at 10am PDT and Oct 22, 2013 at 5pm PDT, what percentage of requests made by unbanned clients each day were canceled in each city?\n",
    "\n",
    "## The query is: "
   ]
  },
  {
   "cell_type": "code",
   "execution_count": 18,
   "metadata": {
    "collapsed": false
   },
   "outputs": [],
   "source": [
    "WITH t1 AS \n",
    "(SELECT t.request_at::date AS date, t.city_id, t.status > 'completed' AS cancelled, count(*) AS num_requests\n",
    "FROM trips AS t \n",
    "JOIN users AS u ON t.client_id = u.usersid\n",
    "WHERE u.role = 'client' AND u.banned = 'f' AND \n",
    "(t.request_at BETWEEN TIMESTAMP WITH TIME ZONE '2013-10-01 10:00:00 PDT' AND TIMESTAMP WITH TIME ZONE '2013-10-22 17:00:00 PDT')\n",
    "GROUP BY t.request_at::date, t.city_id, t.status > 'completed'\n",
    ")\n",
    "SELECT date, city_id, num_requests_pct\n",
    "FROM (SELECT date, city_id, cancelled, num_requests * 100.0 / (SUM(num_requests) OVER (PARTITION BY date, city_id)) AS num_requests_pct\n",
    "FROM t1) AS t2\n",
    "WHERE cancelled = 't';"
   ]
  },
  {
   "cell_type": "code",
   "execution_count": null,
   "metadata": {
    "collapsed": true
   },
   "outputs": [],
   "source": [
    "#alternative solution from leetcode\n",
    "#https://leetcode.com/discuss/52594/sharing-my-solution\n",
    "select t.request_at::date date, t.city_id city, \n",
    "        round(sum(case when t.Status like 'cancelled_%' then 1 else 0 end)/count(*), 2) cancel_rate\n",
    "from trips t\n",
    "inner join users u\n",
    "on t.client_id = u.usersid and u.banned = 'f'\n",
    "where (t.request_at BETWEEN TIMESTAMP WITH TIME ZONE '2013-10-01 10:00:00 PDT' \n",
    "       AND TIMESTAMP WITH TIME ZONE '2013-10-22 17:00:00 PDT')\n",
    "group by t.request_at::date date, t.city_id"
   ]
  },
  {
   "cell_type": "markdown",
   "metadata": {},
   "source": [
    "## Output has three columns:\n",
    "* date: date of requests\n",
    "* city_id: id of city\n",
    "* num_requests_pct: percentage of requests which are made by unbanned clients and cancelled in the end. "
   ]
  },
  {
   "cell_type": "markdown",
   "metadata": {},
   "source": [
    "## 2. For city_ids 1, 6, and 12, list the top three drivers by number of completed trips for each week between June 3, 2013 and June 24, 2013.\n",
    "\n",
    "## The query is:"
   ]
  },
  {
   "cell_type": "code",
   "execution_count": null,
   "metadata": {
    "collapsed": true
   },
   "outputs": [],
   "source": [
    "WITH t AS \n",
    "(SELECT city_id, (EXTRACT(days from request_at - '2013-06-03'::date)/7)::int AS week, \n",
    " driver_id, COUNT(*) AS num_requests\n",
    "FROM trips\n",
    "WHERE city_id IN (1, 6, 12) AND (request_at BETWEEN '2013-06-03'::date AND '2014-06-24'::date) AND\n",
    "status = 'completed'\n",
    "GROUP BY city_id, (EXTRACT(days from request_at - '2013-06-03'::date)/7)::int, driver_id\n",
    "ORDER BY city_id, (EXTRACT(days from request_at - '2013-06-03'::date)/7)::int, num_requests DESC\n",
    ")\n",
    "SELECT city_id, week, driver_id, rank\n",
    "FROM (SELECT city_id, week, driver_id, num_requests, \n",
    "ROW_NUMBER() OVER(PARTITION BY city_id, week ORDER BY num_requests DESC) AS rank\n",
    "FROM t) AS t1\n",
    "WHERE rank <= 3;"
   ]
  },
  {
   "cell_type": "markdown",
   "metadata": {},
   "source": [
    "## Output has four columns:\n",
    "* city_id: id of city\n",
    "* week: week index for weeks between June 3, 2013 and June 24, 2013. should be 1, 2, 3\n",
    "* driver_id: id of driver\n",
    "* rank: rank of driver by number of completed trips"
   ]
  },
  {
   "cell_type": "markdown",
   "metadata": {},
   "source": [
    "# Part 2 - Experiment and metrics design\n",
    "\n",
    "## What information, if any, would be needed to properly determine the sample size and length of the experiment? Which metrics would you plan to track in order to define the performance of the test?\n",
    "* Since display advertising spend is optimized during the 28 days follwing theirs sign-up, the length of the experiment has to be at least 28 days. \n",
    "\n",
    "* The variable to define the performance of Display Partner is the mean of driver revenue during the first 28 days. The metrics to define the performance of the test is whether per-driver revenue of Partner A is higher than that of Partner B by some predefined difference. \n",
    "\n",
    "* Four major factors that influence sampel size:\n",
    "    * How large a differnece you want to be able to detect between partner A and Partner B\n",
    "    * what is the stand deviation of the driver revenue in the population\n",
    "    * what significance level to use as a criterion for statistical significance\n",
    "    * How confident you want to be that you will detect a “statistically significant difference, assuming that a difference does exist. This is defined as power. \n",
    "* Rule of thumb for sample size: 30 should be large enough. \n",
    "\n",
    "## What method would you use to analyze the test results? Explain why you chose this method.\n",
    "* The hypothesis test is to detect if per-driver revenue from Partner A is larger than that of of Partner B. This can be done by using one-tailed two-sample t-test.   \n",
    "    \n",
    "## Based on your method, when would you be able to say that Display Partner A is better than Display Partner B? What visual tools or key measures would you provide to illustrate the conclusion?\n",
    "* There are four steps of a hypothesis test:\n",
    "    * State the hypothesis: define $\\mu_{1}$ as per-driver revenume from Partner A and $\\mu_{2}$ as per-driver revenue from Partner B. D is the difference that we want to detect. \n",
    "        * Null hypothesis is $\\mu_{1}$ - $\\mu_{2}$ >= D\n",
    "        * Alternative hypotheis is $\\mu_{1}$ - $\\mu_{2}$ < D\n",
    "    * Formulate an analysis plan: choose significance level and use two-sample t-test\n",
    "    * Analyze sample data: compute the stand deviation, degrees of freedom, test statistic, and the P-value associated with the test statistic from sample data\n",
    "    * Interpret results: compare the P-value with the significance level and reject the null hypothesis if the P-value is less than the significance level. \n"
   ]
  },
  {
   "cell_type": "markdown",
   "metadata": {},
   "source": [
    "# Part 3 – Data Analysis"
   ]
  },
  {
   "cell_type": "code",
   "execution_count": 4,
   "metadata": {
    "collapsed": false
   },
   "outputs": [],
   "source": [
    "# read data from csv\n",
    "users = pd.read_csv('AdvancedAnalyticsDataset.csv')"
   ]
  },
  {
   "cell_type": "code",
   "execution_count": 6,
   "metadata": {
    "collapsed": false
   },
   "outputs": [
    {
     "data": {
      "text/html": [
       "<div>\n",
       "<table border=\"1\" class=\"dataframe\">\n",
       "  <thead>\n",
       "    <tr style=\"text-align: right;\">\n",
       "      <th></th>\n",
       "      <th>city</th>\n",
       "      <th>trips_in_first_30_days</th>\n",
       "      <th>signup_date</th>\n",
       "      <th>avg_rating_of_driver</th>\n",
       "      <th>avg_surge</th>\n",
       "      <th>last_trip_date</th>\n",
       "      <th>phone</th>\n",
       "      <th>surge_pct</th>\n",
       "      <th>uber_black_user</th>\n",
       "      <th>weekday_pct</th>\n",
       "      <th>avg_dist</th>\n",
       "      <th>avg_rating_by_driver</th>\n",
       "    </tr>\n",
       "  </thead>\n",
       "  <tbody>\n",
       "    <tr>\n",
       "      <th>0</th>\n",
       "      <td>King's Landing</td>\n",
       "      <td>4</td>\n",
       "      <td>1/25/14</td>\n",
       "      <td>4.7</td>\n",
       "      <td>1.10</td>\n",
       "      <td>6/17/14</td>\n",
       "      <td>iPhone</td>\n",
       "      <td>15.4</td>\n",
       "      <td>True</td>\n",
       "      <td>46.2</td>\n",
       "      <td>3.67</td>\n",
       "      <td>5.0</td>\n",
       "    </tr>\n",
       "    <tr>\n",
       "      <th>1</th>\n",
       "      <td>Astapor</td>\n",
       "      <td>0</td>\n",
       "      <td>1/29/14</td>\n",
       "      <td>5.0</td>\n",
       "      <td>1.00</td>\n",
       "      <td>5/5/14</td>\n",
       "      <td>Android</td>\n",
       "      <td>0.0</td>\n",
       "      <td>False</td>\n",
       "      <td>50.0</td>\n",
       "      <td>8.26</td>\n",
       "      <td>5.0</td>\n",
       "    </tr>\n",
       "    <tr>\n",
       "      <th>2</th>\n",
       "      <td>Astapor</td>\n",
       "      <td>3</td>\n",
       "      <td>1/6/14</td>\n",
       "      <td>4.3</td>\n",
       "      <td>1.00</td>\n",
       "      <td>1/7/14</td>\n",
       "      <td>iPhone</td>\n",
       "      <td>0.0</td>\n",
       "      <td>False</td>\n",
       "      <td>100.0</td>\n",
       "      <td>0.77</td>\n",
       "      <td>5.0</td>\n",
       "    </tr>\n",
       "    <tr>\n",
       "      <th>3</th>\n",
       "      <td>King's Landing</td>\n",
       "      <td>9</td>\n",
       "      <td>1/10/14</td>\n",
       "      <td>4.6</td>\n",
       "      <td>1.14</td>\n",
       "      <td>6/29/14</td>\n",
       "      <td>iPhone</td>\n",
       "      <td>20.0</td>\n",
       "      <td>True</td>\n",
       "      <td>80.0</td>\n",
       "      <td>2.36</td>\n",
       "      <td>4.9</td>\n",
       "    </tr>\n",
       "    <tr>\n",
       "      <th>4</th>\n",
       "      <td>Winterfell</td>\n",
       "      <td>14</td>\n",
       "      <td>1/27/14</td>\n",
       "      <td>4.4</td>\n",
       "      <td>1.19</td>\n",
       "      <td>3/15/14</td>\n",
       "      <td>Android</td>\n",
       "      <td>11.8</td>\n",
       "      <td>False</td>\n",
       "      <td>82.4</td>\n",
       "      <td>3.13</td>\n",
       "      <td>4.9</td>\n",
       "    </tr>\n",
       "  </tbody>\n",
       "</table>\n",
       "</div>"
      ],
      "text/plain": [
       "             city  trips_in_first_30_days signup_date  avg_rating_of_driver  \\\n",
       "0  King's Landing                       4     1/25/14                   4.7   \n",
       "1         Astapor                       0     1/29/14                   5.0   \n",
       "2         Astapor                       3      1/6/14                   4.3   \n",
       "3  King's Landing                       9     1/10/14                   4.6   \n",
       "4      Winterfell                      14     1/27/14                   4.4   \n",
       "\n",
       "   avg_surge last_trip_date    phone  surge_pct uber_black_user  weekday_pct  \\\n",
       "0       1.10        6/17/14   iPhone       15.4            True         46.2   \n",
       "1       1.00         5/5/14  Android        0.0           False         50.0   \n",
       "2       1.00         1/7/14   iPhone        0.0           False        100.0   \n",
       "3       1.14        6/29/14   iPhone       20.0            True         80.0   \n",
       "4       1.19        3/15/14  Android       11.8           False         82.4   \n",
       "\n",
       "   avg_dist  avg_rating_by_driver  \n",
       "0      3.67                   5.0  \n",
       "1      8.26                   5.0  \n",
       "2      0.77                   5.0  \n",
       "3      2.36                   4.9  \n",
       "4      3.13                   4.9  "
      ]
     },
     "execution_count": 6,
     "metadata": {},
     "output_type": "execute_result"
    }
   ],
   "source": [
    "users.head()"
   ]
  },
  {
   "cell_type": "markdown",
   "metadata": {
    "collapsed": true
   },
   "source": [
    "## 1. Perform any cleaning, exploratory analysis, and/or visualizations to use the provided data for this analysis (a few sentences/plots describing your approach will suffice). What fraction of the observed users were retained?\n",
    "\n",
    "* If trips_in_first_30_days is greater than zero, a user is reteain in the first monthm. The fraction of the observed users who were retained is 0.6922\n",
    "* Correlation between avg_surge and surge_pct is 0.79. (see the correlation matrix below)\n",
    "* Train a machine leaning model to predict if a user will be retained in the first month by using the features from data. Followings are the steps to build a model.  "
   ]
  },
  {
   "cell_type": "markdown",
   "metadata": {},
   "source": [
    "## Step 1: feature engineering\n",
    "* create label for binary classification: retained_1st_month, retained_6th_month\n",
    "* encode categorical variables: city, phone\n",
    "* create new features:\n",
    "    * last_trip_since_signup = days between last_trip_date and signup_date\n",
    "* deal with NaN values: impute missing values "
   ]
  },
  {
   "cell_type": "code",
   "execution_count": 7,
   "metadata": {
    "collapsed": true
   },
   "outputs": [],
   "source": [
    "def feature_engineering(data):\n",
    "    \"\"\"preprocessing data for model training\"\"\"\n",
    "    # convert date string into right data type\n",
    "    data['signup_date'] =  pd.to_datetime(data.signup_date, format='%m/%d/%y')\n",
    "    data['last_trip_date'] =  pd.to_datetime(data['last_trip_date'], format='%m/%d/%y')\n",
    "    # create number of days between last trip and sign up\n",
    "    data['last_trip_since_signup'] = data.last_trip_date - data.signup_date\n",
    "    # convert timedelta into numerical values with day as unit\n",
    "    data['last_trip_since_signup'] = data['last_trip_since_signup'].astype('timedelta64[D]')\n",
    "    \n",
    "    # create a boolean variable to see if a userd is retained in the first month\n",
    "    data['retained_1st_month'] = np.where(data['trips_in_first_30_days'] == 0, False, True)\n",
    "    # create a boolean variable to see if a userd is retained in the 6th month\n",
    "    data['retained_6th_month'] = np.where(data['last_trip_since_signup'] < 150, False, True)\n",
    "    \n",
    "    # convert categorical variables city and phone into dummy varibles\n",
    "    data = pd.get_dummies(data, columns=['city', 'phone'])\n",
    "    \n",
    "    return data    "
   ]
  },
  {
   "cell_type": "code",
   "execution_count": 8,
   "metadata": {
    "collapsed": true
   },
   "outputs": [],
   "source": [
    "users1 = feature_engineering(data=users)"
   ]
  },
  {
   "cell_type": "code",
   "execution_count": 77,
   "metadata": {
    "collapsed": false
   },
   "outputs": [
    {
     "data": {
      "text/html": [
       "<div>\n",
       "<table border=\"1\" class=\"dataframe\">\n",
       "  <thead>\n",
       "    <tr style=\"text-align: right;\">\n",
       "      <th></th>\n",
       "      <th>trips_in_first_30_days</th>\n",
       "      <th>signup_date</th>\n",
       "      <th>avg_rating_of_driver</th>\n",
       "      <th>avg_surge</th>\n",
       "      <th>last_trip_date</th>\n",
       "      <th>surge_pct</th>\n",
       "      <th>uber_black_user</th>\n",
       "      <th>weekday_pct</th>\n",
       "      <th>avg_dist</th>\n",
       "      <th>avg_rating_by_driver</th>\n",
       "      <th>last_trip_since_signup</th>\n",
       "      <th>retained_1st_month</th>\n",
       "      <th>retained_6th_month</th>\n",
       "      <th>city_Astapor</th>\n",
       "      <th>city_King's Landing</th>\n",
       "      <th>city_Winterfell</th>\n",
       "      <th>phone_Android</th>\n",
       "      <th>phone_iPhone</th>\n",
       "    </tr>\n",
       "  </thead>\n",
       "  <tbody>\n",
       "    <tr>\n",
       "      <th>0</th>\n",
       "      <td>4</td>\n",
       "      <td>2014-01-25</td>\n",
       "      <td>4.7</td>\n",
       "      <td>1.10</td>\n",
       "      <td>2014-06-17</td>\n",
       "      <td>15.4</td>\n",
       "      <td>True</td>\n",
       "      <td>46.2</td>\n",
       "      <td>3.67</td>\n",
       "      <td>5.0</td>\n",
       "      <td>143</td>\n",
       "      <td>True</td>\n",
       "      <td>False</td>\n",
       "      <td>0</td>\n",
       "      <td>1</td>\n",
       "      <td>0</td>\n",
       "      <td>0</td>\n",
       "      <td>1</td>\n",
       "    </tr>\n",
       "    <tr>\n",
       "      <th>1</th>\n",
       "      <td>0</td>\n",
       "      <td>2014-01-29</td>\n",
       "      <td>5.0</td>\n",
       "      <td>1.00</td>\n",
       "      <td>2014-05-05</td>\n",
       "      <td>0.0</td>\n",
       "      <td>False</td>\n",
       "      <td>50.0</td>\n",
       "      <td>8.26</td>\n",
       "      <td>5.0</td>\n",
       "      <td>96</td>\n",
       "      <td>False</td>\n",
       "      <td>False</td>\n",
       "      <td>1</td>\n",
       "      <td>0</td>\n",
       "      <td>0</td>\n",
       "      <td>1</td>\n",
       "      <td>0</td>\n",
       "    </tr>\n",
       "    <tr>\n",
       "      <th>2</th>\n",
       "      <td>3</td>\n",
       "      <td>2014-01-06</td>\n",
       "      <td>4.3</td>\n",
       "      <td>1.00</td>\n",
       "      <td>2014-01-07</td>\n",
       "      <td>0.0</td>\n",
       "      <td>False</td>\n",
       "      <td>100.0</td>\n",
       "      <td>0.77</td>\n",
       "      <td>5.0</td>\n",
       "      <td>1</td>\n",
       "      <td>True</td>\n",
       "      <td>False</td>\n",
       "      <td>1</td>\n",
       "      <td>0</td>\n",
       "      <td>0</td>\n",
       "      <td>0</td>\n",
       "      <td>1</td>\n",
       "    </tr>\n",
       "    <tr>\n",
       "      <th>3</th>\n",
       "      <td>9</td>\n",
       "      <td>2014-01-10</td>\n",
       "      <td>4.6</td>\n",
       "      <td>1.14</td>\n",
       "      <td>2014-06-29</td>\n",
       "      <td>20.0</td>\n",
       "      <td>True</td>\n",
       "      <td>80.0</td>\n",
       "      <td>2.36</td>\n",
       "      <td>4.9</td>\n",
       "      <td>170</td>\n",
       "      <td>True</td>\n",
       "      <td>True</td>\n",
       "      <td>0</td>\n",
       "      <td>1</td>\n",
       "      <td>0</td>\n",
       "      <td>0</td>\n",
       "      <td>1</td>\n",
       "    </tr>\n",
       "    <tr>\n",
       "      <th>4</th>\n",
       "      <td>14</td>\n",
       "      <td>2014-01-27</td>\n",
       "      <td>4.4</td>\n",
       "      <td>1.19</td>\n",
       "      <td>2014-03-15</td>\n",
       "      <td>11.8</td>\n",
       "      <td>False</td>\n",
       "      <td>82.4</td>\n",
       "      <td>3.13</td>\n",
       "      <td>4.9</td>\n",
       "      <td>47</td>\n",
       "      <td>True</td>\n",
       "      <td>False</td>\n",
       "      <td>0</td>\n",
       "      <td>0</td>\n",
       "      <td>1</td>\n",
       "      <td>1</td>\n",
       "      <td>0</td>\n",
       "    </tr>\n",
       "  </tbody>\n",
       "</table>\n",
       "</div>"
      ],
      "text/plain": [
       "   trips_in_first_30_days signup_date  avg_rating_of_driver  avg_surge  \\\n",
       "0                       4  2014-01-25                   4.7       1.10   \n",
       "1                       0  2014-01-29                   5.0       1.00   \n",
       "2                       3  2014-01-06                   4.3       1.00   \n",
       "3                       9  2014-01-10                   4.6       1.14   \n",
       "4                      14  2014-01-27                   4.4       1.19   \n",
       "\n",
       "  last_trip_date  surge_pct uber_black_user  weekday_pct  avg_dist  \\\n",
       "0     2014-06-17       15.4            True         46.2      3.67   \n",
       "1     2014-05-05        0.0           False         50.0      8.26   \n",
       "2     2014-01-07        0.0           False        100.0      0.77   \n",
       "3     2014-06-29       20.0            True         80.0      2.36   \n",
       "4     2014-03-15       11.8           False         82.4      3.13   \n",
       "\n",
       "   avg_rating_by_driver  last_trip_since_signup retained_1st_month  \\\n",
       "0                   5.0                     143               True   \n",
       "1                   5.0                      96              False   \n",
       "2                   5.0                       1               True   \n",
       "3                   4.9                     170               True   \n",
       "4                   4.9                      47               True   \n",
       "\n",
       "  retained_6th_month  city_Astapor  city_King's Landing  city_Winterfell  \\\n",
       "0              False             0                    1                0   \n",
       "1              False             1                    0                0   \n",
       "2              False             1                    0                0   \n",
       "3               True             0                    1                0   \n",
       "4              False             0                    0                1   \n",
       "\n",
       "   phone_Android  phone_iPhone  \n",
       "0              0             1  \n",
       "1              1             0  \n",
       "2              0             1  \n",
       "3              0             1  \n",
       "4              1             0  "
      ]
     },
     "execution_count": 77,
     "metadata": {},
     "output_type": "execute_result"
    }
   ],
   "source": [
    "users1.head()"
   ]
  },
  {
   "cell_type": "code",
   "execution_count": 13,
   "metadata": {
    "collapsed": false
   },
   "outputs": [
    {
     "data": {
      "text/plain": [
       "True     0.6922\n",
       "False    0.3078\n",
       "dtype: float64"
      ]
     },
     "execution_count": 13,
     "metadata": {},
     "output_type": "execute_result"
    }
   ],
   "source": [
    "users1.retained_1st_month.value_counts(normalize=True)"
   ]
  },
  {
   "cell_type": "code",
   "execution_count": 14,
   "metadata": {
    "collapsed": false
   },
   "outputs": [
    {
     "data": {
      "text/plain": [
       "False    0.74572\n",
       "True     0.25428\n",
       "dtype: float64"
      ]
     },
     "execution_count": 14,
     "metadata": {},
     "output_type": "execute_result"
    }
   ],
   "source": [
    "users1.retained_6th_month.value_counts(normalize=True)"
   ]
  },
  {
   "cell_type": "code",
   "execution_count": 74,
   "metadata": {
    "collapsed": false
   },
   "outputs": [
    {
     "data": {
      "image/png": "[encoded data removed]",
      "text/plain": [
       "<matplotlib.figure.Figure at 0x7f0dc6ddbeb8>"
      ]
     },
     "metadata": {},
     "output_type": "display_data"
    }
   ],
   "source": [
    "g = sns.FacetGrid(users1, col='retained_1st_month')\n",
    "g = g.map(plt.hist, 'last_trip_since_signup', bins=20, normed=True)"
   ]
  },
  {
   "cell_type": "code",
   "execution_count": 75,
   "metadata": {
    "collapsed": false
   },
   "outputs": [
    {
     "data": {
      "image/png": "[encoded data removed]",
      "text/plain": [
       "<matplotlib.figure.Figure at 0x7f0dc43f7b70>"
      ]
     },
     "metadata": {},
     "output_type": "display_data"
    }
   ],
   "source": [
    "g = sns.FacetGrid(users1, col='retained_1st_month')\n",
    "g = g.map(plt.hist, 'avg_dist', bins=20, normed=True)"
   ]
  },
  {
   "cell_type": "code",
   "execution_count": 76,
   "metadata": {
    "collapsed": false
   },
   "outputs": [
    {
     "data": {
      "image/png": "[encoded data removed]",
      "text/plain": [
       "<matplotlib.figure.Figure at 0x7f0dc5cb3668>"
      ]
     },
     "metadata": {},
     "output_type": "display_data"
    }
   ],
   "source": [
    "g = sns.FacetGrid(users1, col='retained_1st_month')\n",
    "g = g.map(plt.hist, 'weekday_pct', bins=20, normed=True)"
   ]
  },
  {
   "cell_type": "code",
   "execution_count": 104,
   "metadata": {
    "collapsed": false
   },
   "outputs": [
    {
     "data": {
      "text/plain": [
       "<matplotlib.axes._subplots.AxesSubplot at 0x7f0dad4412b0>"
      ]
     },
     "execution_count": 104,
     "metadata": {},
     "output_type": "execute_result"
    },
    {
     "data": {
      "image/png": "[encoded data removed]",
      "text/plain": [
       "<matplotlib.figure.Figure at 0x7f0dc5cca748>"
      ]
     },
     "metadata": {},
     "output_type": "display_data"
    }
   ],
   "source": [
    "# create a heat map to show covariance of all variables \n",
    "plt.figure(figsize=(20, 10))\n",
    "sns.heatmap(users1.corr(), cbar=True, annot=True, square=True, fmt='.2f', xticklabels=True, \n",
    "            yticklabels=True)"
   ]
  },
  {
   "cell_type": "markdown",
   "metadata": {},
   "source": [
    "## Step 2: model training and evaluation\n",
    "* Since there are some missing values at feature avg_rating_by_driver and avg_rating_of_driver. We can either only use data without any missing value in these two features to train the model. Or we can impute the missing values. Moedel evaluation can be used to see which strategy is better. \n",
    "* Use logistical regreesion and random forest and see which one is better"
   ]
  },
  {
   "cell_type": "markdown",
   "metadata": {},
   "source": [
    "### Step 2.1: use data without any missing value to train a model"
   ]
  },
  {
   "cell_type": "code",
   "execution_count": 37,
   "metadata": {
    "collapsed": false
   },
   "outputs": [],
   "source": [
    "def split_train_test(data, features, label, imputed=False):\n",
    "    \"\"\"impute missing value in features if imputed is True. \n",
    "    after that, split data into traing and test data set\"\"\"\n",
    "    if imputed: # need to impute missing value\n",
    "        df = data[features + label]\n",
    "        # save features into X and label into y\n",
    "        X = df[features].values # numpy array\n",
    "        y = df[label].ix[:, 0].values # 1d numpy array\n",
    "        # split X, y into training and testing dataset\n",
    "        X_train, X_test, y_train, y_test=train_test_split(X, y, test_size=0.25, random_state=1234)        \n",
    "        # in order to avoid data snooping, only use training data to fit Imputer\n",
    "        imp = Imputer(missing_values='NaN', strategy='mean', axis=0)\n",
    "        X_train = imp.fit_transform(X_train)\n",
    "        X_test = imp.transform(X_test)\n",
    "    else: # remove any row with missing value\n",
    "        df = (data[features + label]).dropna()\n",
    "        # save features into X and label into y\n",
    "        X = df[features].values # numpy array\n",
    "        y = df[label].ix[:, 0].values # 1d numpy array\n",
    "        # split X, y into training and testing dataset\n",
    "        X_train, X_test, y_train, y_test = train_test_split(X, y, test_size=0.25, random_state=1234)        \n",
    "        \n",
    "    print(X_train.shape, X_test.shape, y_train.shape, y_test.shape)\n",
    "    return X_train, X_test, y_train, y_test      "
   ]
  },
  {
   "cell_type": "code",
   "execution_count": 83,
   "metadata": {
    "collapsed": false
   },
   "outputs": [
    {
     "name": "stdout",
     "output_type": "stream",
     "text": [
      "(31308, 12) (10436, 12) (31308,) (10436,)\n"
     ]
    }
   ],
   "source": [
    "# decide what features are used in prediction\n",
    "features = ['avg_rating_of_driver', 'avg_surge', 'surge_pct', 'uber_black_user', 'weekday_pct', \n",
    "            'avg_dist', 'avg_rating_by_driver', 'last_trip_since_signup', 'city_Astapor', \n",
    "            \"city_King's Landing\", 'city_Winterfell', 'phone_Android', 'phone_iPhone']\n",
    "label = ['retained_1st_month']\n",
    "X_train, X_test, y_train, y_test= split_train_test(data=users1, features=features, label=label, imputed=False)"
   ]
  },
  {
   "cell_type": "code",
   "execution_count": 101,
   "metadata": {
    "collapsed": true
   },
   "outputs": [],
   "source": [
    "# logistic regression\n",
    "def train_lr(X_train, X_test, y_train, y_test, parameters, features):\n",
    "    '''use logistic regression as bench mark'''\n",
    "    print('size of features in training: {}'.format(X_train.shape))\n",
    "    pipe = Pipeline([('ss', StandardScaler()), \n",
    "                       ('lr', LogisticRegression(class_weight='auto', random_state=7))])\n",
    "    clf = GridSearchCV(estimator=pipe, param_grid=parameters, scoring='f1', n_jobs=-1, cv=10)\n",
    "    clf.fit(X_train, y_train)\n",
    "    print('best parameters: {}'.format(clf.best_params_))\n",
    "    \n",
    "    # evaluate the peformance of estimator on testing data\n",
    "    y_pred = clf.predict(X_test)\n",
    "    print('\\nsize of features in testing: {}'.format(X_test.shape))\n",
    "    print('confusion matrix:')\n",
    "    print(confusion_matrix(y_test, y_pred, labels=[True, False]))\n",
    "    print('accuracy score: {}'.format(accuracy_score(y_test, y_pred)))\n",
    "    print('f1_score: {}'.format(f1_score(y_test, y_pred, labels=[True, False], pos_label=True)))\n",
    "    \n",
    "    return()"
   ]
  },
  {
   "cell_type": "code",
   "execution_count": 102,
   "metadata": {
    "collapsed": false
   },
   "outputs": [
    {
     "name": "stdout",
     "output_type": "stream",
     "text": [
      "size of features in training: (31308, 12)\n",
      "best parameters: {'lr__C': 0.1, 'lr__penalty': 'l2'}\n",
      "\n",
      "size of features in testing: (10436, 12)\n",
      "confusion matrix:\n",
      "[[3893 3721]\n",
      " [1012 1810]]\n",
      "accuracy score: 0.5464737447297815\n",
      "f1_score: 0.6219346593178368\n"
     ]
    }
   ],
   "source": [
    "parameters={'lr__penalty': ['l1', 'l2'], 'lr__C': [0.01, 0.1, 1, 10, 100]}\n",
    "lr = train_lr(X_train_std, X_test_std, y_train, y_test, parameters, features)"
   ]
  },
  {
   "cell_type": "code",
   "execution_count": 47,
   "metadata": {
    "collapsed": true
   },
   "outputs": [],
   "source": [
    "# random forest\n",
    "def train_rfc(X_train, X_test, y_train, y_test, parameters, features):\n",
    "    '''train random forest classifier and see the performance of model and feature importance, return the tuned model'''\n",
    "    print('size of features in training: {}'.format(X_train.shape))\n",
    "    estimator = RandomForestClassifier(class_weight='auto', random_state=7)\n",
    "    clf = GridSearchCV(estimator=estimator, param_grid=parameters, scoring='f1', n_jobs=-1, cv=3)\n",
    "    clf.fit(X_train, y_train)\n",
    "    print('best parameters: {}'.format(clf.best_params_))\n",
    "    # see feature importance\n",
    "    feature_importance = pd.DataFrame({'feature':features, 'importance':clf.best_estimator_.feature_importances_})\n",
    "    print('feature importance:')\n",
    "    print(feature_importance.sort('importance',ascending=False))\n",
    "    \n",
    "    # evaluate the peformance of estimator on testing data\n",
    "    y_pred = clf.predict(X_test)\n",
    "    print('\\nsize of features in testing: {}'.format(X_test.shape))\n",
    "    print('confusion matrix:')\n",
    "    print(confusion_matrix(y_test, y_pred, labels=[True, False]))\n",
    "    print('accuracy score: {}'.format(accuracy_score(y_test, y_pred)))\n",
    "    print('f1_score: {}'.format(f1_score(y_test, y_pred, labels=[True, False], pos_label=True)))\n",
    "    \n",
    "    return(clf)"
   ]
  },
  {
   "cell_type": "code",
   "execution_count": 48,
   "metadata": {
    "collapsed": false
   },
   "outputs": [
    {
     "name": "stdout",
     "output_type": "stream",
     "text": [
      "size of features in training: (31308, 13)\n",
      "best parameters: {'criterion': 'entropy', 'n_estimators': 150, 'max_features': 8}\n",
      "feature importance:\n",
      "                   feature  importance\n",
      "7   last_trip_since_signup    0.365479\n",
      "5                 avg_dist    0.189853\n",
      "4              weekday_pct    0.127706\n",
      "6     avg_rating_by_driver    0.086803\n",
      "0     avg_rating_of_driver    0.058758\n",
      "2                surge_pct    0.056763\n",
      "1                avg_surge    0.037297\n",
      "3          uber_black_user    0.019509\n",
      "10         city_Winterfell    0.012913\n",
      "12            phone_iPhone    0.011717\n",
      "8             city_Astapor    0.011650\n",
      "9      city_King's Landing    0.010950\n",
      "11           phone_Android    0.010603\n",
      "\n",
      "size of features in testing: (10436, 13)\n",
      "confusion matrix:\n",
      "[[6870  744]\n",
      " [1244 1578]]\n",
      "accuracy score: 0.8095055576849367\n",
      "f1_score: 0.8736012207527976\n"
     ]
    }
   ],
   "source": [
    "parameters={'n_estimators': [150], 'max_features': [3, 4, 5, 6, 7, 8, 9], 'criterion': ['gini', 'entropy']}\n",
    "rfc = train_rfc(X_train, X_test, y_train, y_test, parameters, features)"
   ]
  },
  {
   "cell_type": "markdown",
   "metadata": {},
   "source": [
    "### Step 2.1: impute data with any missing value and train a model"
   ]
  },
  {
   "cell_type": "code",
   "execution_count": 72,
   "metadata": {
    "collapsed": false
   },
   "outputs": [
    {
     "name": "stdout",
     "output_type": "stream",
     "text": [
      "(37500, 13) (12500, 13) (37500,) (12500,)\n"
     ]
    }
   ],
   "source": [
    "X_train_imp, X_test_imp, y_train_imp, y_test_imp = split_train_test(data=users1, features=features, label=label, imputed=True)"
   ]
  },
  {
   "cell_type": "code",
   "execution_count": 73,
   "metadata": {
    "collapsed": false
   },
   "outputs": [
    {
     "name": "stdout",
     "output_type": "stream",
     "text": [
      "size of features in training: (37500, 13)\n",
      "best parameters: {'criterion': 'entropy', 'n_estimators': 150, 'max_features': 8}\n",
      "feature importance:\n",
      "                   feature  importance\n",
      "7   last_trip_since_signup    0.391744\n",
      "5                 avg_dist    0.178008\n",
      "4              weekday_pct    0.130835\n",
      "6     avg_rating_by_driver    0.088321\n",
      "0     avg_rating_of_driver    0.056929\n",
      "2                surge_pct    0.049505\n",
      "1                avg_surge    0.032829\n",
      "3          uber_black_user    0.017963\n",
      "10         city_Winterfell    0.012343\n",
      "12            phone_iPhone    0.011361\n",
      "8             city_Astapor    0.010612\n",
      "9      city_King's Landing    0.009827\n",
      "11           phone_Android    0.009722\n",
      "\n",
      "size of features in testing: (12500, 13)\n",
      "confusion matrix:\n",
      "[[7777  895]\n",
      " [1363 2465]]\n",
      "accuracy score: 0.81936\n",
      "f1_score: 0.8732315293060857\n"
     ]
    }
   ],
   "source": [
    "parameters={'n_estimators': [150], 'max_features': [3, 4, 5, 6, 7, 8, 9], 'criterion': ['gini', 'entropy']}\n",
    "rfc_imp = train_rfc(X_train_imp, X_test_imp, y_train_imp, y_test_imp, parameters, features)"
   ]
  },
  {
   "cell_type": "markdown",
   "metadata": {},
   "source": [
    "## 2. Briefly discuss how Uber might leverage the insights gained from the model to improve its long-term rider retention (again, a few sentences will suffice). \n",
    "* F1_score of logistic regression is only 0.62 while f1_score of random forest is 0.87. Random forest is much better than logistic regression, which implies that the binary classifcation is not roughly linearly separable.  \n",
    "* Model's performance with imputed data is almost the same as the model using data without imputation\n",
    "* Three features including last_trip_since_signup, avg_dist, weekday_pct are significantly important to the prediction. They are the best predictors for retention. "
   ]
  },
  {
   "cell_type": "markdown",
   "metadata": {},
   "source": [
    "## EXTRA CREDIT\n",
    "## Build a predictive model to help Uber determine whether or not a user will be active in their 6th month on the system. Discuss why you chose your approach, what alternatives you considered, and any concerns you have. How valid is your model? Include any key indicators of model performance.\n",
    "\n",
    "* Build a model to predict if a user will be retained in the 6th month. (see the results as followings)\n",
    "* The reasons to choose random forest: \n",
    "    * no need to feature scaling\n",
    "    * good at handling categorical variables\n",
    "    * easy for parallal computing\n",
    "    * good at handling very high dimensional features and large number of training examples\n",
    "* f1_score is only 0.53, which is very low while accuary score is 0.75. This is becuase of imbalanced data. "
   ]
  },
  {
   "cell_type": "code",
   "execution_count": 32,
   "metadata": {
    "collapsed": false
   },
   "outputs": [
    {
     "data": {
      "text/plain": [
       "<matplotlib.axes._subplots.AxesSubplot at 0x7f0dc5c414e0>"
      ]
     },
     "execution_count": 32,
     "metadata": {},
     "output_type": "execute_result"
    },
    {
     "data": {
      "image/png": "[encoded data removed]",
      "text/plain": [
       "<matplotlib.figure.Figure at 0x7f0dc5c441d0>"
      ]
     },
     "metadata": {},
     "output_type": "display_data"
    }
   ],
   "source": [
    "users1.last_trip_since_signup.hist()"
   ]
  },
  {
   "cell_type": "code",
   "execution_count": 33,
   "metadata": {
    "collapsed": false
   },
   "outputs": [
    {
     "data": {
      "text/plain": [
       "False    0.74572\n",
       "True     0.25428\n",
       "dtype: float64"
      ]
     },
     "execution_count": 33,
     "metadata": {},
     "output_type": "execute_result"
    }
   ],
   "source": [
    "users1.retained_6th_month.value_counts(normalize=True)"
   ]
  },
  {
   "cell_type": "code",
   "execution_count": 51,
   "metadata": {
    "collapsed": false
   },
   "outputs": [
    {
     "name": "stdout",
     "output_type": "stream",
     "text": [
      "(31308, 13) (10436, 13) (31308,) (10436,)\n"
     ]
    }
   ],
   "source": [
    "# decide what features are used in prediction\n",
    "features_6th_month = ['avg_rating_of_driver', 'avg_surge', 'surge_pct', 'uber_black_user',\n",
    "       'weekday_pct', 'avg_dist', 'avg_rating_by_driver', 'city_Astapor', \"city_King's Landing\",\n",
    "       'city_Winterfell', 'phone_Android', 'phone_iPhone', 'trips_in_first_30_days']\n",
    "label_6th_month = ['retained_6th_month']\n",
    "X_train_6st_month, X_test_6st_month, y_train_6st_month, y_test_6th_month= split_train_test(data=users1, features=features_6th_month, label=label_6th_month, imputed=False)"
   ]
  },
  {
   "cell_type": "code",
   "execution_count": 54,
   "metadata": {
    "collapsed": false
   },
   "outputs": [
    {
     "name": "stdout",
     "output_type": "stream",
     "text": [
      "size of features in training: (31308, 13)\n",
      "best parameters: {'criterion': 'entropy', 'n_estimators': 150, 'max_features': 4}\n",
      "feature importance:\n",
      "                   feature  importance\n",
      "5                 avg_dist    0.302121\n",
      "4              weekday_pct    0.149855\n",
      "6     avg_rating_by_driver    0.103760\n",
      "12  trips_in_first_30_days    0.092139\n",
      "0     avg_rating_of_driver    0.091667\n",
      "2                surge_pct    0.087234\n",
      "1                avg_surge    0.069577\n",
      "8      city_King's Landing    0.027145\n",
      "3          uber_black_user    0.022417\n",
      "10           phone_Android    0.014807\n",
      "11            phone_iPhone    0.014730\n",
      "7             city_Astapor    0.013899\n",
      "9          city_Winterfell    0.010648\n",
      "\n",
      "size of features in testing: (10436, 13)\n",
      "confusion matrix:\n",
      "[[1485 1487]\n",
      " [1069 6395]]\n",
      "accuracy score: 0.7550785741663473\n",
      "f1_score: 0.5374592833876223\n"
     ]
    }
   ],
   "source": [
    "parameters={'n_estimators': [150], 'max_features': [3, 4, 5, 6, 7, 8, 9], 'criterion': ['gini', 'entropy']}\n",
    "rfc_6th_month = train_rfc(X_train_6st_month, X_test_6st_month, y_train_6st_month, y_test_6th_month, parameters, features_6th_month)"
   ]
  },
  {
   "cell_type": "code",
   "execution_count": null,
   "metadata": {
    "collapsed": true
   },
   "outputs": [],
   "source": []
  },
  {
   "cell_type": "code",
   "execution_count": null,
   "metadata": {
    "collapsed": true
   },
   "outputs": [],
   "source": []
  },
  {
   "cell_type": "code",
   "execution_count": null,
   "metadata": {
    "collapsed": true
   },
   "outputs": [],
   "source": []
  },
  {
   "cell_type": "code",
   "execution_count": null,
   "metadata": {
    "collapsed": true
   },
   "outputs": [],
   "source": []
  },
  {
   "cell_type": "code",
   "execution_count": null,
   "metadata": {
    "collapsed": true
   },
   "outputs": [],
   "source": []
  },
  {
   "cell_type": "code",
   "execution_count": null,
   "metadata": {
    "collapsed": true
   },
   "outputs": [],
   "source": []
  },
  {
   "cell_type": "code",
   "execution_count": null,
   "metadata": {
    "collapsed": true
   },
   "outputs": [],
   "source": []
  },
  {
   "cell_type": "code",
   "execution_count": null,
   "metadata": {
    "collapsed": true
   },
   "outputs": [],
   "source": []
  },
  {
   "cell_type": "code",
   "execution_count": null,
   "metadata": {
    "collapsed": true
   },
   "outputs": [],
   "source": []
  },
  {
   "cell_type": "code",
   "execution_count": null,
   "metadata": {
    "collapsed": true
   },
   "outputs": [],
   "source": []
  },
  {
   "cell_type": "code",
   "execution_count": null,
   "metadata": {
    "collapsed": true
   },
   "outputs": [],
   "source": []
  },
  {
   "cell_type": "code",
   "execution_count": null,
   "metadata": {
    "collapsed": true
   },
   "outputs": [],
   "source": []
  },
  {
   "cell_type": "code",
   "execution_count": null,
   "metadata": {
    "collapsed": true
   },
   "outputs": [],
   "source": []
  },
  {
   "cell_type": "code",
   "execution_count": null,
   "metadata": {
    "collapsed": true
   },
   "outputs": [],
   "source": []
  },
  {
   "cell_type": "code",
   "execution_count": null,
   "metadata": {
    "collapsed": true
   },
   "outputs": [],
   "source": []
  },
  {
   "cell_type": "code",
   "execution_count": null,
   "metadata": {
    "collapsed": true
   },
   "outputs": [],
   "source": []
  },
  {
   "cell_type": "code",
   "execution_count": null,
   "metadata": {
    "collapsed": true
   },
   "outputs": [],
   "source": []
  },
  {
   "cell_type": "code",
   "execution_count": null,
   "metadata": {
    "collapsed": true
   },
   "outputs": [],
   "source": []
  },
  {
   "cell_type": "code",
   "execution_count": null,
   "metadata": {
    "collapsed": true
   },
   "outputs": [],
   "source": []
  }
 ],
 "metadata": {
  "kernelspec": {
   "display_name": "Python 3",
   "language": "python",
   "name": "python3"
  },
  "language_info": {
   "codemirror_mode": {
    "name": "ipython",
    "version": 3
   },
   "file_extension": ".py",
   "mimetype": "text/x-python",
   "name": "python",
   "nbconvert_exporter": "python",
   "pygments_lexer": "ipython3",
   "version": "3.4.3"
  }
 },
 "nbformat": 4,
 "nbformat_minor": 0
}
