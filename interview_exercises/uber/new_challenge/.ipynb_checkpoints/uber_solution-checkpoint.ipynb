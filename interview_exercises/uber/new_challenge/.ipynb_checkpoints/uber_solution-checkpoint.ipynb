{
 "cells": [
  {
   "cell_type": "code",
   "execution_count": 69,
   "metadata": {
    "collapsed": false
   },
   "outputs": [
    {
     "data": {
      "text/html": [
       "<style>.container { width:95% !important; }</style>"
      ],
      "text/plain": [
       "<IPython.core.display.HTML object>"
      ]
     },
     "execution_count": 69,
     "metadata": {},
     "output_type": "execute_result"
    }
   ],
   "source": [
    "from IPython.core.display import HTML\n",
    "HTML(\"<style>.container { width:95% !important; }</style>\")"
   ]
  },
  {
   "cell_type": "code",
   "execution_count": 41,
   "metadata": {
    "collapsed": true
   },
   "outputs": [],
   "source": [
    "import numpy as np\n",
    "import pandas as pd\n",
    "pd.set_option('display.max_rows', 500)\n",
    "pd.set_option('display.max_columns', 500)\n",
    "\n",
    "import json\n",
    "from pandas.io.json import json_normalize\n",
    "import pprint\n",
    "\n",
    "import matplotlib.pyplot as plt\n",
    "%matplotlib inline\n",
    "plt.style.use('ggplot')\n",
    "import seaborn as sns\n",
    "sns.set(style=\"whitegrid\", color_codes=True)\n",
    "\n",
    "# preprocessing data\n",
    "from sklearn.preprocessing import Imputer, StandardScaler\n",
    "\n",
    "# import models \n",
    "from sklearn.ensemble import RandomForestClassifier\n",
    "from sklearn.linear_model import LogisticRegression\n",
    "\n",
    "from sklearn.pipeline import Pipeline\n",
    "\n",
    "# use cross-validation\n",
    "from sklearn.cross_validation import train_test_split, cross_val_score\n",
    "from sklearn.grid_search import GridSearchCV\n",
    "\n",
    "# import peformance metrics \n",
    "from sklearn.metrics import f1_score, accuracy_score, confusion_matrix, mean_squared_error, r2_score\n",
    "from sklearn.metrics import mean_absolute_error"
   ]
  },
  {
   "cell_type": "markdown",
   "metadata": {},
   "source": [
    "# Part 1 - SQL"
   ]
  },
  {
   "cell_type": "markdown",
   "metadata": {},
   "source": [
    "## 1. Between Oct 1, 2013 at 10am PDT and Oct 22, 2013 at 5pm PDT, what percentage of requests made by unbanned clients each day were canceled in each city?\n",
    "\n",
    "## The query is: "
   ]
  },
  {
   "cell_type": "code",
   "execution_count": null,
   "metadata": {
    "collapsed": true
   },
   "outputs": [],
   "source": [
    "SELECT t.request_at::date date, t.city_id, \n",
    "        ROUND(SUM(CASE WHEN t.status > 'completed' THEN 1 else 0 END) * 100.0 / COUNT(*), 2) cancel_pct\n",
    "FROM trips t\n",
    "INNER JOIN users u \n",
    "ON t.client_id = u.usersid \n",
    "WHERE u.banned = 'f' AND  u.role = 'client' AND \n",
    "(t.request_at BETWEEN TIMESTAMP WITH TIME ZONE '2013-10-01 10:00:00 PDT' \n",
    " AND TIMESTAMP WITH TIME ZONE '2013-10-22 17:00:00 PDT')\n",
    "GROUP BY t.request_at::date, t.city_id;"
   ]
  },
  {
   "cell_type": "markdown",
   "metadata": {},
   "source": [
    "## Output has three columns:\n",
    "* date: date of requests\n",
    "* city_id: id of city\n",
    "* cancel_pct: percentage of requests which are made by unbanned clients and cancelled in the end. "
   ]
  },
  {
   "cell_type": "markdown",
   "metadata": {},
   "source": [
    "## 2. For city_ids 1, 6, and 12, list the top three drivers by number of completed trips for each week between June 3, 2013 and June 24, 2013.\n",
    "\n",
    "## The query is:"
   ]
  },
  {
   "cell_type": "code",
   "execution_count": null,
   "metadata": {
    "collapsed": true
   },
   "outputs": [],
   "source": [
    "WITH t AS \n",
    "(SELECT city_id, (EXTRACT(days from request_at - '2013-06-03'::date)/7)::int AS week, \n",
    " driver_id, COUNT(*) AS num_requests\n",
    "FROM trips\n",
    "WHERE city_id IN (1, 6, 12) AND (request_at BETWEEN '2013-06-03'::date AND '2013-06-24'::date) AND\n",
    "status = 'completed'\n",
    "GROUP BY city_id, (EXTRACT(days from request_at - '2013-06-03'::date)/7)::int, driver_id\n",
    "ORDER BY city_id, (EXTRACT(days from request_at - '2013-06-03'::date)/7)::int, num_requests DESC\n",
    ")\n",
    "\n",
    "SELECT city_id, week, driver_id, rank\n",
    "FROM (SELECT city_id, week, driver_id, num_requests, \n",
    "ROW_NUMBER() OVER(PARTITION BY city_id, week ORDER BY num_requests DESC) AS rank\n",
    "FROM t) AS t1\n",
    "WHERE rank <= 3;"
   ]
  },
  {
   "cell_type": "markdown",
   "metadata": {},
   "source": [
    "## Output has four columns:\n",
    "* city_id: id of city\n",
    "* week: week index for weeks between June 3, 2013 and June 24, 2013. should be 1, 2, 3\n",
    "* driver_id: id of driver\n",
    "* rank: rank of driver by number of completed trips"
   ]
  },
  {
   "cell_type": "markdown",
   "metadata": {},
   "source": [
    "# Part 2 - Experiment and metrics design"
   ]
  },
  {
   "cell_type": "markdown",
   "metadata": {},
   "source": [
    "## 1. What would you choose as the key measure of the success of the feature? \n",
    "* The goal of the Growth Team is to expand Uber's demand market, and one great way is to incentive users to invites people, such as their friends to join Uber. The key measue of the success of using Surge Protector is: Users who get a Surge Protector as reward will have more successful invites than the ones getting a free ride as reward. \n",
    "\n",
    "\n",
    "## 2. What other metrics would be worth watching in addition to the key indicator? \n",
    "* Experiment design is affected by the target audience, the place where the experiment is conducted and how long the experiment is, it will be also interesting to see:\n",
    "    * Users who live at cities with high surge multiplier (NYC, San Francisco) will prefer a Surge Protector than a free ride. So Surge Protector at cities with a high surge multiplier will have better effects than citie wiht a low surge multiplier. \n",
    "    * Surge Protector might have different effects on different types of users based on their ages, gender, etc.  \n",
    "    \n",
    "\n",
    "## 3. Describe an experiment design that you could use to confirm the hypothesis that your chosen key measure is different in the treated group. \n",
    "* Step 1: Figure out what to improve\n",
    "    * The Growth Team wants to improve the number of successfull invites uses send and eventually increase Uber's demand market. \n",
    "* Step 2: Form a hypothesis\n",
    "    * The hypothesis is that users who get a Surge Protector as reward will have more successful invites than the ones getting a free ride as reward by some perecentage. \n",
    "    * State the hypothesis: define $\\mu_{1}$ as number of successful invites due to Surge Protector and $\\mu_{2}$ as number of successful invites due to free ride. D is the difference that we want to detect. \n",
    "        * Null hypothesis is $\\mu_{1}$ - $\\mu_{2}$ <= D\n",
    "        * Alternative hypotheis is $\\mu_{1}$ - $\\mu_{2}$ > D\n",
    "    * Formulate an analysis plan: choose significance level and what test statistic to compute (in this case, might use one-sided two-sample t-test)\n",
    "* Step 3: Create the experiment\n",
    "    * A few questions need to be answered to create the experiment\n",
    "        * Who is the target audience? The target is users who use Uber to request driving service\n",
    "        * What do you want them to do? Uber wants users to invite more people to join Uber\n",
    "        * Why should they do it? Uber rewards users with either a free ride or a surger protector if they invite people to join Uber successfully. \n",
    "    * Overall the experiment is to find out if users will invite more people to join Uber successfully because of a Surge Protector compared to a free ride by some percentage. \n",
    "* Step 4: Measure performance\n",
    "    * analyze sample data: compute P-value of the test statistic from samples. \n",
    "    * interpret results: if P-value is less than the significance level, reject the null hypothesis and accept the alternative hypothesis, which means that surger protector is better than free ride. Otherwise, fail to reject the null hypothesis and we have to redesign the experiment.       \n"
   ]
  },
  {
   "cell_type": "markdown",
   "metadata": {},
   "source": [
    "# Part 3 – Data Analysis"
   ]
  },
  {
   "cell_type": "code",
   "execution_count": 70,
   "metadata": {
    "collapsed": false
   },
   "outputs": [
    {
     "data": {
      "text/plain": [
       "(50000, 12)"
      ]
     },
     "execution_count": 70,
     "metadata": {},
     "output_type": "execute_result"
    }
   ],
   "source": [
    "# read joson and convert it into a Data Frame\n",
    "with open('uber_data_challenge.json') as f:    \n",
    "    json_data = json.load(f)\n",
    "    users = json_normalize(json_data)\n",
    "users.shape"
   ]
  },
  {
   "cell_type": "code",
   "execution_count": 71,
   "metadata": {
    "collapsed": false
   },
   "outputs": [
    {
     "data": {
      "text/html": [
       "<div>\n",
       "<table border=\"1\" class=\"dataframe\">\n",
       "  <thead>\n",
       "    <tr style=\"text-align: right;\">\n",
       "      <th></th>\n",
       "      <th>avg_dist</th>\n",
       "      <th>avg_rating_by_driver</th>\n",
       "      <th>avg_rating_of_driver</th>\n",
       "      <th>avg_surge</th>\n",
       "      <th>city</th>\n",
       "      <th>last_trip_date</th>\n",
       "      <th>phone</th>\n",
       "      <th>signup_date</th>\n",
       "      <th>surge_pct</th>\n",
       "      <th>trips_in_first_30_days</th>\n",
       "      <th>uber_black_user</th>\n",
       "      <th>weekday_pct</th>\n",
       "    </tr>\n",
       "  </thead>\n",
       "  <tbody>\n",
       "    <tr>\n",
       "      <th>0</th>\n",
       "      <td>3.67</td>\n",
       "      <td>5.0</td>\n",
       "      <td>4.7</td>\n",
       "      <td>1.10</td>\n",
       "      <td>King's Landing</td>\n",
       "      <td>2014-06-17</td>\n",
       "      <td>iPhone</td>\n",
       "      <td>2014-01-25</td>\n",
       "      <td>15.4</td>\n",
       "      <td>4</td>\n",
       "      <td>True</td>\n",
       "      <td>46.2</td>\n",
       "    </tr>\n",
       "    <tr>\n",
       "      <th>1</th>\n",
       "      <td>8.26</td>\n",
       "      <td>5.0</td>\n",
       "      <td>5.0</td>\n",
       "      <td>1.00</td>\n",
       "      <td>Astapor</td>\n",
       "      <td>2014-05-05</td>\n",
       "      <td>Android</td>\n",
       "      <td>2014-01-29</td>\n",
       "      <td>0.0</td>\n",
       "      <td>0</td>\n",
       "      <td>False</td>\n",
       "      <td>50.0</td>\n",
       "    </tr>\n",
       "    <tr>\n",
       "      <th>2</th>\n",
       "      <td>0.77</td>\n",
       "      <td>5.0</td>\n",
       "      <td>4.3</td>\n",
       "      <td>1.00</td>\n",
       "      <td>Astapor</td>\n",
       "      <td>2014-01-07</td>\n",
       "      <td>iPhone</td>\n",
       "      <td>2014-01-06</td>\n",
       "      <td>0.0</td>\n",
       "      <td>3</td>\n",
       "      <td>False</td>\n",
       "      <td>100.0</td>\n",
       "    </tr>\n",
       "    <tr>\n",
       "      <th>3</th>\n",
       "      <td>2.36</td>\n",
       "      <td>4.9</td>\n",
       "      <td>4.6</td>\n",
       "      <td>1.14</td>\n",
       "      <td>King's Landing</td>\n",
       "      <td>2014-06-29</td>\n",
       "      <td>iPhone</td>\n",
       "      <td>2014-01-10</td>\n",
       "      <td>20.0</td>\n",
       "      <td>9</td>\n",
       "      <td>True</td>\n",
       "      <td>80.0</td>\n",
       "    </tr>\n",
       "    <tr>\n",
       "      <th>4</th>\n",
       "      <td>3.13</td>\n",
       "      <td>4.9</td>\n",
       "      <td>4.4</td>\n",
       "      <td>1.19</td>\n",
       "      <td>Winterfell</td>\n",
       "      <td>2014-03-15</td>\n",
       "      <td>Android</td>\n",
       "      <td>2014-01-27</td>\n",
       "      <td>11.8</td>\n",
       "      <td>14</td>\n",
       "      <td>False</td>\n",
       "      <td>82.4</td>\n",
       "    </tr>\n",
       "  </tbody>\n",
       "</table>\n",
       "</div>"
      ],
      "text/plain": [
       "   avg_dist  avg_rating_by_driver  avg_rating_of_driver  avg_surge  \\\n",
       "0      3.67                   5.0                   4.7       1.10   \n",
       "1      8.26                   5.0                   5.0       1.00   \n",
       "2      0.77                   5.0                   4.3       1.00   \n",
       "3      2.36                   4.9                   4.6       1.14   \n",
       "4      3.13                   4.9                   4.4       1.19   \n",
       "\n",
       "             city last_trip_date    phone signup_date  surge_pct  \\\n",
       "0  King's Landing     2014-06-17   iPhone  2014-01-25       15.4   \n",
       "1         Astapor     2014-05-05  Android  2014-01-29        0.0   \n",
       "2         Astapor     2014-01-07   iPhone  2014-01-06        0.0   \n",
       "3  King's Landing     2014-06-29   iPhone  2014-01-10       20.0   \n",
       "4      Winterfell     2014-03-15  Android  2014-01-27       11.8   \n",
       "\n",
       "   trips_in_first_30_days uber_black_user  weekday_pct  \n",
       "0                       4            True         46.2  \n",
       "1                       0           False         50.0  \n",
       "2                       3           False        100.0  \n",
       "3                       9            True         80.0  \n",
       "4                      14           False         82.4  "
      ]
     },
     "execution_count": 71,
     "metadata": {},
     "output_type": "execute_result"
    }
   ],
   "source": [
    "users.head()"
   ]
  },
  {
   "cell_type": "code",
   "execution_count": 18,
   "metadata": {
    "collapsed": false,
    "scrolled": false
   },
   "outputs": [
    {
     "data": {
      "text/html": [
       "<div>\n",
       "<table border=\"1\" class=\"dataframe\">\n",
       "  <thead>\n",
       "    <tr style=\"text-align: right;\">\n",
       "      <th></th>\n",
       "      <th>avg_dist</th>\n",
       "      <th>avg_rating_by_driver</th>\n",
       "      <th>avg_rating_of_driver</th>\n",
       "      <th>avg_surge</th>\n",
       "      <th>surge_pct</th>\n",
       "      <th>trips_in_first_30_days</th>\n",
       "      <th>uber_black_user</th>\n",
       "      <th>weekday_pct</th>\n",
       "    </tr>\n",
       "  </thead>\n",
       "  <tbody>\n",
       "    <tr>\n",
       "      <th>count</th>\n",
       "      <td>50000.000000</td>\n",
       "      <td>49799.000000</td>\n",
       "      <td>41878.000000</td>\n",
       "      <td>50000.000000</td>\n",
       "      <td>50000.000000</td>\n",
       "      <td>50000.000000</td>\n",
       "      <td>50000</td>\n",
       "      <td>50000.000000</td>\n",
       "    </tr>\n",
       "    <tr>\n",
       "      <th>mean</th>\n",
       "      <td>5.796827</td>\n",
       "      <td>4.778158</td>\n",
       "      <td>4.601559</td>\n",
       "      <td>1.074764</td>\n",
       "      <td>8.849536</td>\n",
       "      <td>2.278200</td>\n",
       "      <td>0.37708</td>\n",
       "      <td>60.926084</td>\n",
       "    </tr>\n",
       "    <tr>\n",
       "      <th>std</th>\n",
       "      <td>5.707357</td>\n",
       "      <td>0.446652</td>\n",
       "      <td>0.617338</td>\n",
       "      <td>0.222336</td>\n",
       "      <td>19.958811</td>\n",
       "      <td>3.792684</td>\n",
       "      <td>0.4846601</td>\n",
       "      <td>37.081503</td>\n",
       "    </tr>\n",
       "    <tr>\n",
       "      <th>min</th>\n",
       "      <td>0.000000</td>\n",
       "      <td>1.000000</td>\n",
       "      <td>1.000000</td>\n",
       "      <td>1.000000</td>\n",
       "      <td>0.000000</td>\n",
       "      <td>0.000000</td>\n",
       "      <td>False</td>\n",
       "      <td>0.000000</td>\n",
       "    </tr>\n",
       "    <tr>\n",
       "      <th>25%</th>\n",
       "      <td>2.420000</td>\n",
       "      <td>4.700000</td>\n",
       "      <td>4.300000</td>\n",
       "      <td>1.000000</td>\n",
       "      <td>0.000000</td>\n",
       "      <td>0.000000</td>\n",
       "      <td>0</td>\n",
       "      <td>33.300000</td>\n",
       "    </tr>\n",
       "    <tr>\n",
       "      <th>50%</th>\n",
       "      <td>3.880000</td>\n",
       "      <td>5.000000</td>\n",
       "      <td>4.900000</td>\n",
       "      <td>1.000000</td>\n",
       "      <td>0.000000</td>\n",
       "      <td>1.000000</td>\n",
       "      <td>0</td>\n",
       "      <td>66.700000</td>\n",
       "    </tr>\n",
       "    <tr>\n",
       "      <th>75%</th>\n",
       "      <td>6.940000</td>\n",
       "      <td>5.000000</td>\n",
       "      <td>5.000000</td>\n",
       "      <td>1.050000</td>\n",
       "      <td>8.600000</td>\n",
       "      <td>3.000000</td>\n",
       "      <td>1</td>\n",
       "      <td>100.000000</td>\n",
       "    </tr>\n",
       "    <tr>\n",
       "      <th>max</th>\n",
       "      <td>160.960000</td>\n",
       "      <td>5.000000</td>\n",
       "      <td>5.000000</td>\n",
       "      <td>8.000000</td>\n",
       "      <td>100.000000</td>\n",
       "      <td>125.000000</td>\n",
       "      <td>True</td>\n",
       "      <td>100.000000</td>\n",
       "    </tr>\n",
       "  </tbody>\n",
       "</table>\n",
       "</div>"
      ],
      "text/plain": [
       "           avg_dist  avg_rating_by_driver  avg_rating_of_driver     avg_surge  \\\n",
       "count  50000.000000          49799.000000          41878.000000  50000.000000   \n",
       "mean       5.796827              4.778158              4.601559      1.074764   \n",
       "std        5.707357              0.446652              0.617338      0.222336   \n",
       "min        0.000000              1.000000              1.000000      1.000000   \n",
       "25%        2.420000              4.700000              4.300000      1.000000   \n",
       "50%        3.880000              5.000000              4.900000      1.000000   \n",
       "75%        6.940000              5.000000              5.000000      1.050000   \n",
       "max      160.960000              5.000000              5.000000      8.000000   \n",
       "\n",
       "          surge_pct  trips_in_first_30_days uber_black_user   weekday_pct  \n",
       "count  50000.000000            50000.000000           50000  50000.000000  \n",
       "mean       8.849536                2.278200         0.37708     60.926084  \n",
       "std       19.958811                3.792684       0.4846601     37.081503  \n",
       "min        0.000000                0.000000           False      0.000000  \n",
       "25%        0.000000                0.000000               0     33.300000  \n",
       "50%        0.000000                1.000000               0     66.700000  \n",
       "75%        8.600000                3.000000               1    100.000000  \n",
       "max      100.000000              125.000000            True    100.000000  "
      ]
     },
     "execution_count": 18,
     "metadata": {},
     "output_type": "execute_result"
    }
   ],
   "source": [
    "users.describe()"
   ]
  },
  {
   "cell_type": "markdown",
   "metadata": {
    "collapsed": true
   },
   "source": [
    "## 1. Perform any cleaning, exploratory analysis, and/or visualizations to use the provided data for this analysis (a few sentences/plots describing your approach will suffice). What fraction of the observed users were retained?\n",
    "\n",
    "* If trips_in_first_30_days is greater than zero, a user is reteain in the first monthm. The fraction of the observed users who were retained is 0.6922 (see the result below)\n",
    "* Correlation between avg_surge and surge_pct is 0.79. (see the correlation matrix below)"
   ]
  },
  {
   "cell_type": "markdown",
   "metadata": {},
   "source": [
    "## 2. Build a predictive model to help Uber determine whether or not a user will be retained. Discuss why you chose your approach, what alternatives you considered, and any concerns you have. How valid is your model? Include any key indicators of model performance.  "
   ]
  },
  {
   "cell_type": "markdown",
   "metadata": {},
   "source": [
    "## Step 1: feature engineering\n",
    "* create label for binary classification: retained_1st_month\n",
    "* encode categorical variables: city, phone\n",
    "* create new features:\n",
    "    * last_trip_since_signup = days between last_trip_date and signup_date\n",
    "* deal with NaN values: impute missing values "
   ]
  },
  {
   "cell_type": "code",
   "execution_count": 60,
   "metadata": {
    "collapsed": true
   },
   "outputs": [],
   "source": [
    "def feature_engineering(data):\n",
    "    \"\"\"preprocessing data for model training\"\"\"\n",
    "    # convert date string into right data type\n",
    "    data['signup_date'] =  pd.to_datetime(data.signup_date, format='%Y-%m-%d')\n",
    "    data['last_trip_date'] =  pd.to_datetime(data['last_trip_date'], format='%Y-%m-%d')\n",
    "    # create number of days between last trip and sign up\n",
    "    data['last_trip_since_signup'] = data.last_trip_date - data.signup_date\n",
    "    # convert timedelta into numerical values with day as unit\n",
    "    data['last_trip_since_signup'] = data['last_trip_since_signup'].astype('timedelta64[D]')\n",
    "    \n",
    "    # create a boolean variable to see if a userd is retained in the first month\n",
    "    data['retained_1st_month'] = np.where(data['trips_in_first_30_days'] == 0, False, True)\n",
    "    \n",
    "    # convert categorical variables city and phone into dummy varibles\n",
    "    data = pd.get_dummies(data, columns=['city', 'phone'])\n",
    "    \n",
    "    return data    "
   ]
  },
  {
   "cell_type": "code",
   "execution_count": 61,
   "metadata": {
    "collapsed": false
   },
   "outputs": [],
   "source": [
    "users1 = feature_engineering(data=users)"
   ]
  },
  {
   "cell_type": "code",
   "execution_count": 62,
   "metadata": {
    "collapsed": false
   },
   "outputs": [
    {
     "data": {
      "text/html": [
       "<div>\n",
       "<table border=\"1\" class=\"dataframe\">\n",
       "  <thead>\n",
       "    <tr style=\"text-align: right;\">\n",
       "      <th></th>\n",
       "      <th>avg_dist</th>\n",
       "      <th>avg_rating_by_driver</th>\n",
       "      <th>avg_rating_of_driver</th>\n",
       "      <th>avg_surge</th>\n",
       "      <th>last_trip_date</th>\n",
       "      <th>signup_date</th>\n",
       "      <th>surge_pct</th>\n",
       "      <th>trips_in_first_30_days</th>\n",
       "      <th>uber_black_user</th>\n",
       "      <th>weekday_pct</th>\n",
       "      <th>last_trip_since_signup</th>\n",
       "      <th>retained_1st_month</th>\n",
       "      <th>city_Astapor</th>\n",
       "      <th>city_King's Landing</th>\n",
       "      <th>city_Winterfell</th>\n",
       "      <th>phone_Android</th>\n",
       "      <th>phone_iPhone</th>\n",
       "    </tr>\n",
       "  </thead>\n",
       "  <tbody>\n",
       "    <tr>\n",
       "      <th>0</th>\n",
       "      <td>3.67</td>\n",
       "      <td>5.0</td>\n",
       "      <td>4.7</td>\n",
       "      <td>1.10</td>\n",
       "      <td>2014-06-17</td>\n",
       "      <td>2014-01-25</td>\n",
       "      <td>15.4</td>\n",
       "      <td>4</td>\n",
       "      <td>True</td>\n",
       "      <td>46.2</td>\n",
       "      <td>143</td>\n",
       "      <td>True</td>\n",
       "      <td>0</td>\n",
       "      <td>1</td>\n",
       "      <td>0</td>\n",
       "      <td>0</td>\n",
       "      <td>1</td>\n",
       "    </tr>\n",
       "    <tr>\n",
       "      <th>1</th>\n",
       "      <td>8.26</td>\n",
       "      <td>5.0</td>\n",
       "      <td>5.0</td>\n",
       "      <td>1.00</td>\n",
       "      <td>2014-05-05</td>\n",
       "      <td>2014-01-29</td>\n",
       "      <td>0.0</td>\n",
       "      <td>0</td>\n",
       "      <td>False</td>\n",
       "      <td>50.0</td>\n",
       "      <td>96</td>\n",
       "      <td>False</td>\n",
       "      <td>1</td>\n",
       "      <td>0</td>\n",
       "      <td>0</td>\n",
       "      <td>1</td>\n",
       "      <td>0</td>\n",
       "    </tr>\n",
       "    <tr>\n",
       "      <th>2</th>\n",
       "      <td>0.77</td>\n",
       "      <td>5.0</td>\n",
       "      <td>4.3</td>\n",
       "      <td>1.00</td>\n",
       "      <td>2014-01-07</td>\n",
       "      <td>2014-01-06</td>\n",
       "      <td>0.0</td>\n",
       "      <td>3</td>\n",
       "      <td>False</td>\n",
       "      <td>100.0</td>\n",
       "      <td>1</td>\n",
       "      <td>True</td>\n",
       "      <td>1</td>\n",
       "      <td>0</td>\n",
       "      <td>0</td>\n",
       "      <td>0</td>\n",
       "      <td>1</td>\n",
       "    </tr>\n",
       "    <tr>\n",
       "      <th>3</th>\n",
       "      <td>2.36</td>\n",
       "      <td>4.9</td>\n",
       "      <td>4.6</td>\n",
       "      <td>1.14</td>\n",
       "      <td>2014-06-29</td>\n",
       "      <td>2014-01-10</td>\n",
       "      <td>20.0</td>\n",
       "      <td>9</td>\n",
       "      <td>True</td>\n",
       "      <td>80.0</td>\n",
       "      <td>170</td>\n",
       "      <td>True</td>\n",
       "      <td>0</td>\n",
       "      <td>1</td>\n",
       "      <td>0</td>\n",
       "      <td>0</td>\n",
       "      <td>1</td>\n",
       "    </tr>\n",
       "    <tr>\n",
       "      <th>4</th>\n",
       "      <td>3.13</td>\n",
       "      <td>4.9</td>\n",
       "      <td>4.4</td>\n",
       "      <td>1.19</td>\n",
       "      <td>2014-03-15</td>\n",
       "      <td>2014-01-27</td>\n",
       "      <td>11.8</td>\n",
       "      <td>14</td>\n",
       "      <td>False</td>\n",
       "      <td>82.4</td>\n",
       "      <td>47</td>\n",
       "      <td>True</td>\n",
       "      <td>0</td>\n",
       "      <td>0</td>\n",
       "      <td>1</td>\n",
       "      <td>1</td>\n",
       "      <td>0</td>\n",
       "    </tr>\n",
       "  </tbody>\n",
       "</table>\n",
       "</div>"
      ],
      "text/plain": [
       "   avg_dist  avg_rating_by_driver  avg_rating_of_driver  avg_surge  \\\n",
       "0      3.67                   5.0                   4.7       1.10   \n",
       "1      8.26                   5.0                   5.0       1.00   \n",
       "2      0.77                   5.0                   4.3       1.00   \n",
       "3      2.36                   4.9                   4.6       1.14   \n",
       "4      3.13                   4.9                   4.4       1.19   \n",
       "\n",
       "  last_trip_date signup_date  surge_pct  trips_in_first_30_days  \\\n",
       "0     2014-06-17  2014-01-25       15.4                       4   \n",
       "1     2014-05-05  2014-01-29        0.0                       0   \n",
       "2     2014-01-07  2014-01-06        0.0                       3   \n",
       "3     2014-06-29  2014-01-10       20.0                       9   \n",
       "4     2014-03-15  2014-01-27       11.8                      14   \n",
       "\n",
       "  uber_black_user  weekday_pct  last_trip_since_signup retained_1st_month  \\\n",
       "0            True         46.2                     143               True   \n",
       "1           False         50.0                      96              False   \n",
       "2           False        100.0                       1               True   \n",
       "3            True         80.0                     170               True   \n",
       "4           False         82.4                      47               True   \n",
       "\n",
       "   city_Astapor  city_King's Landing  city_Winterfell  phone_Android  \\\n",
       "0             0                    1                0              0   \n",
       "1             1                    0                0              1   \n",
       "2             1                    0                0              0   \n",
       "3             0                    1                0              0   \n",
       "4             0                    0                1              1   \n",
       "\n",
       "   phone_iPhone  \n",
       "0             1  \n",
       "1             0  \n",
       "2             1  \n",
       "3             1  \n",
       "4             0  "
      ]
     },
     "execution_count": 62,
     "metadata": {},
     "output_type": "execute_result"
    }
   ],
   "source": [
    "users1.head()"
   ]
  },
  {
   "cell_type": "code",
   "execution_count": 63,
   "metadata": {
    "collapsed": false
   },
   "outputs": [
    {
     "data": {
      "text/plain": [
       "True     0.6922\n",
       "False    0.3078\n",
       "dtype: float64"
      ]
     },
     "execution_count": 63,
     "metadata": {},
     "output_type": "execute_result"
    }
   ],
   "source": [
    "users1.retained_1st_month.value_counts(normalize=True)"
   ]
  },
  {
   "cell_type": "code",
   "execution_count": 64,
   "metadata": {
    "collapsed": false
   },
   "outputs": [
    {
     "data": {
      "image/png": "[encoded data removed]",
      "text/plain": [
       "<matplotlib.figure.Figure at 0x7f8d9d0b5198>"
      ]
     },
     "metadata": {},
     "output_type": "display_data"
    }
   ],
   "source": [
    "g = sns.FacetGrid(users1, col='retained_1st_month')\n",
    "g = g.map(plt.hist, 'last_trip_since_signup', bins=20, normed=True)"
   ]
  },
  {
   "cell_type": "code",
   "execution_count": 65,
   "metadata": {
    "collapsed": false
   },
   "outputs": [
    {
     "data": {
      "image/png": "[encoded data removed]",
      "text/plain": [
       "<matplotlib.figure.Figure at 0x7f8dac176630>"
      ]
     },
     "metadata": {},
     "output_type": "display_data"
    }
   ],
   "source": [
    "g = sns.FacetGrid(users1, col='retained_1st_month')\n",
    "g = g.map(plt.hist, 'avg_dist', bins=20, normed=True)"
   ]
  },
  {
   "cell_type": "code",
   "execution_count": 66,
   "metadata": {
    "collapsed": false
   },
   "outputs": [
    {
     "data": {
      "image/png": "[encoded data removed]",
      "text/plain": [
       "<matplotlib.figure.Figure at 0x7f8dac8ac128>"
      ]
     },
     "metadata": {},
     "output_type": "display_data"
    }
   ],
   "source": [
    "g = sns.FacetGrid(users1, col='retained_1st_month')\n",
    "g = g.map(plt.hist, 'weekday_pct', bins=20, normed=True)"
   ]
  },
  {
   "cell_type": "code",
   "execution_count": 67,
   "metadata": {
    "collapsed": false
   },
   "outputs": [
    {
     "data": {
      "text/plain": [
       "<matplotlib.axes._subplots.AxesSubplot at 0x7f8dac188f98>"
      ]
     },
     "execution_count": 67,
     "metadata": {},
     "output_type": "execute_result"
    },
    {
     "data": {
      "image/png": "[encoded data removed]",
      "text/plain": [
       "<matplotlib.figure.Figure at 0x7f8dac4f1c18>"
      ]
     },
     "metadata": {},
     "output_type": "display_data"
    }
   ],
   "source": [
    "# create a heat map to show covariance of all variables \n",
    "plt.figure(figsize=(20, 10))\n",
    "sns.heatmap(users1.corr(), cbar=True, annot=True, square=True, fmt='.2f', xticklabels=True, \n",
    "            yticklabels=True)"
   ]
  },
  {
   "cell_type": "markdown",
   "metadata": {},
   "source": [
    "## Step 2: model training and evaluation\n",
    "* Since there are some missing values at feature avg_rating_by_driver and avg_rating_of_driver. We can either only use data without any missing value in these two features to train the model. Or we can impute the missing values. Moedel evaluation can be used to see which strategy is better. \n",
    "* Use logistical regreesion and random forest and see which one is better\n",
    "* Use cross-validation to optimize hyper-parameters in the marchine learning algorithms\n",
    "* use f1_score instead of accuracy as peformance metrics due to the imbalance data "
   ]
  },
  {
   "cell_type": "markdown",
   "metadata": {},
   "source": [
    "### Step 2.1: use data without any missing value to train a model"
   ]
  },
  {
   "cell_type": "code",
   "execution_count": 42,
   "metadata": {
    "collapsed": false
   },
   "outputs": [],
   "source": [
    "def split_train_test(data, features, label, imputed=False):\n",
    "    \"\"\"impute missing value in features if imputed is True. \n",
    "    after that, split data into traing and test data set\"\"\"\n",
    "    if imputed: # need to impute missing value\n",
    "        df = data[features + label]\n",
    "        # save features into X and label into y\n",
    "        X = df[features].values # numpy array\n",
    "        y = df[label].ix[:, 0].values # 1d numpy array\n",
    "        # split X, y into training and testing dataset\n",
    "        X_train, X_test, y_train, y_test=train_test_split(X, y, test_size=0.25, random_state=1234)        \n",
    "        # in order to avoid data snooping, only use training data to fit Imputer\n",
    "        imp = Imputer(missing_values='NaN', strategy='mean', axis=0)\n",
    "        X_train = imp.fit_transform(X_train)\n",
    "        X_test = imp.transform(X_test)\n",
    "    else: # remove any row with missing value\n",
    "        df = (data[features + label]).dropna()\n",
    "        # save features into X and label into y\n",
    "        X = df[features].values # numpy array\n",
    "        y = df[label].ix[:, 0].values # 1d numpy array\n",
    "        # split X, y into training and testing dataset\n",
    "        X_train, X_test, y_train, y_test = train_test_split(X, y, test_size=0.25, random_state=1234)        \n",
    "        \n",
    "    print(X_train.shape, X_test.shape, y_train.shape, y_test.shape)\n",
    "    return X_train, X_test, y_train, y_test      "
   ]
  },
  {
   "cell_type": "code",
   "execution_count": 68,
   "metadata": {
    "collapsed": false
   },
   "outputs": [
    {
     "name": "stdout",
     "output_type": "stream",
     "text": [
      "(31308, 13) (10436, 13) (31308,) (10436,)\n"
     ]
    }
   ],
   "source": [
    "# decide what features are used in prediction\n",
    "features = ['avg_rating_of_driver', 'avg_surge', 'surge_pct', 'uber_black_user', 'weekday_pct', \n",
    "            'avg_dist', 'avg_rating_by_driver', 'last_trip_since_signup', 'city_Astapor', \n",
    "            \"city_King's Landing\", 'city_Winterfell', 'phone_Android', 'phone_iPhone']\n",
    "\n",
    "label = ['retained_1st_month']\n",
    "X_train, X_test, y_train, y_test= split_train_test(data=users1, features=features, label=label, imputed=False)"
   ]
  },
  {
   "cell_type": "code",
   "execution_count": 56,
   "metadata": {
    "collapsed": true
   },
   "outputs": [],
   "source": [
    "# logistic regression\n",
    "def train_lr(X_train, X_test, y_train, y_test, parameters, features):\n",
    "    '''use logistic regression as bench mark'''\n",
    "    print('size of features in training: {}'.format(X_train.shape))\n",
    "    # build a pipeline to preprocess data before training a model\n",
    "    pipe = Pipeline([('ss', StandardScaler()), \n",
    "                     ('lr', LogisticRegression(class_weight='auto', random_state=7))])\n",
    "    clf = GridSearchCV(estimator=pipe, param_grid=parameters, scoring='f1', n_jobs=-1, cv=10)\n",
    "    clf.fit(X_train, y_train)\n",
    "    print('best parameters: {}'.format(clf.best_params_))\n",
    "    \n",
    "    # evaluate the peformance of estimator on testing data\n",
    "    y_pred = clf.predict(X_test)\n",
    "    print('\\nsize of features in testing: {}'.format(X_test.shape))\n",
    "    print('confusion matrix:')\n",
    "    print(confusion_matrix(y_test, y_pred, labels=[True, False]))\n",
    "    print('accuracy score: {}'.format(accuracy_score(y_test, y_pred)))\n",
    "    print('f1_score: {}'.format(f1_score(y_test, y_pred, labels=[True, False], pos_label=True)))\n",
    "    \n",
    "    return()"
   ]
  },
  {
   "cell_type": "code",
   "execution_count": 45,
   "metadata": {
    "collapsed": false
   },
   "outputs": [
    {
     "name": "stdout",
     "output_type": "stream",
     "text": [
      "size of features in training: (31308, 13)\n",
      "best parameters: {'lr__C': 0.1, 'lr__penalty': 'l2'}\n",
      "\n",
      "size of features in testing: (10436, 13)\n",
      "confusion matrix:\n",
      "[[3897 3717]\n",
      " [1014 1808]]\n",
      "accuracy score: 0.5466653890379456\n",
      "f1_score: 0.6222754491017964\n"
     ]
    }
   ],
   "source": [
    "parameters={'lr__penalty': ['l1', 'l2'], 'lr__C': [0.01, 0.1, 1, 10, 100]}\n",
    "lr = train_lr(X_train, X_test, y_train, y_test, parameters, features)"
   ]
  },
  {
   "cell_type": "code",
   "execution_count": 47,
   "metadata": {
    "collapsed": true
   },
   "outputs": [],
   "source": [
    "# random forest\n",
    "def train_rfc(X_train, X_test, y_train, y_test, parameters, features):\n",
    "    '''train random forest classifier and see the performance of model and feature importance, return the tuned model'''\n",
    "    print('size of features in training: {}'.format(X_train.shape))\n",
    "    estimator = RandomForestClassifier(class_weight='auto', random_state=7)\n",
    "    clf = GridSearchCV(estimator=estimator, param_grid=parameters, scoring='f1', n_jobs=-1, cv=3)\n",
    "    clf.fit(X_train, y_train)\n",
    "    print('best parameters: {}'.format(clf.best_params_))\n",
    "    # see feature importance\n",
    "    feature_importance = pd.DataFrame({'feature':features, 'importance':clf.best_estimator_.feature_importances_})\n",
    "    print('feature importance:')\n",
    "    print(feature_importance.sort('importance',ascending=False))\n",
    "    \n",
    "    # evaluate the peformance of estimator on testing data\n",
    "    y_pred = clf.predict(X_test)\n",
    "    print('\\nsize of features in testing: {}'.format(X_test.shape))\n",
    "    print('confusion matrix:')\n",
    "    print(confusion_matrix(y_test, y_pred, labels=[True, False]))\n",
    "    print('accuracy score: {}'.format(accuracy_score(y_test, y_pred)))\n",
    "    print('f1_score: {}'.format(f1_score(y_test, y_pred, labels=[True, False], pos_label=True)))\n",
    "    \n",
    "    return(clf)"
   ]
  },
  {
   "cell_type": "code",
   "execution_count": 48,
   "metadata": {
    "collapsed": false
   },
   "outputs": [
    {
     "name": "stdout",
     "output_type": "stream",
     "text": [
      "size of features in training: (31308, 13)\n",
      "best parameters: {'max_features': 8, 'criterion': 'entropy', 'n_estimators': 150}\n",
      "feature importance:\n",
      "                   feature  importance\n",
      "7   last_trip_since_signup    0.365479\n",
      "5                 avg_dist    0.189853\n",
      "4              weekday_pct    0.127706\n",
      "6     avg_rating_by_driver    0.086803\n",
      "0     avg_rating_of_driver    0.058758\n",
      "2                surge_pct    0.056763\n",
      "1                avg_surge    0.037297\n",
      "3          uber_black_user    0.019509\n",
      "10         city_Winterfell    0.012913\n",
      "12            phone_iPhone    0.011717\n",
      "8             city_Astapor    0.011650\n",
      "9      city_King's Landing    0.010950\n",
      "11           phone_Android    0.010603\n",
      "\n",
      "size of features in testing: (10436, 13)\n",
      "confusion matrix:\n",
      "[[6870  744]\n",
      " [1244 1578]]\n",
      "accuracy score: 0.8095055576849367\n",
      "f1_score: 0.8736012207527976\n"
     ]
    }
   ],
   "source": [
    "parameters={'n_estimators': [150], 'max_features': [3, 4, 5, 6, 7, 8, 9], 'criterion': ['gini', 'entropy']}\n",
    "rfc = train_rfc(X_train, X_test, y_train, y_test, parameters, features)"
   ]
  },
  {
   "cell_type": "markdown",
   "metadata": {},
   "source": [
    "### Step 2.2: impute data with any missing value and re-train a model"
   ]
  },
  {
   "cell_type": "code",
   "execution_count": 58,
   "metadata": {
    "collapsed": false
   },
   "outputs": [
    {
     "name": "stdout",
     "output_type": "stream",
     "text": [
      "(37500, 13) (12500, 13) (37500,) (12500,)\n"
     ]
    }
   ],
   "source": [
    "X_train_imp, X_test_imp, y_train_imp, y_test_imp = split_train_test(data=users1, features=features, label=label, imputed=True)"
   ]
  },
  {
   "cell_type": "code",
   "execution_count": 59,
   "metadata": {
    "collapsed": false
   },
   "outputs": [
    {
     "name": "stdout",
     "output_type": "stream",
     "text": [
      "size of features in training: (37500, 13)\n",
      "best parameters: {'max_features': 8, 'criterion': 'entropy', 'n_estimators': 150}\n",
      "feature importance:\n",
      "                   feature  importance\n",
      "7   last_trip_since_signup    0.391744\n",
      "5                 avg_dist    0.178008\n",
      "4              weekday_pct    0.130835\n",
      "6     avg_rating_by_driver    0.088321\n",
      "0     avg_rating_of_driver    0.056929\n",
      "2                surge_pct    0.049505\n",
      "1                avg_surge    0.032829\n",
      "3          uber_black_user    0.017963\n",
      "10         city_Winterfell    0.012343\n",
      "12            phone_iPhone    0.011361\n",
      "8             city_Astapor    0.010612\n",
      "9      city_King's Landing    0.009827\n",
      "11           phone_Android    0.009722\n",
      "\n",
      "size of features in testing: (12500, 13)\n",
      "confusion matrix:\n",
      "[[7777  895]\n",
      " [1363 2465]]\n",
      "accuracy score: 0.81936\n",
      "f1_score: 0.8732315293060857\n"
     ]
    }
   ],
   "source": [
    "parameters={'n_estimators': [150], 'max_features': [3, 4, 5, 6, 7, 8, 9], 'criterion': ['gini', 'entropy']}\n",
    "rfc_imp = train_rfc(X_train_imp, X_test_imp, y_train_imp, y_test_imp, parameters, features)"
   ]
  },
  {
   "cell_type": "markdown",
   "metadata": {},
   "source": [
    "## 3. Briefly discuss how Uber might leverage the insights gained from the model to improve its rider retention (again, a few sentences will suffice). \n",
    "* F1_score of logistic regression is only 0.62 while f1_score of random forest is 0.87. Random forest is much better than logistic regression, which implies that the binary classifcation is not roughly linearly separable. Advantages of random forest:\n",
    "    * no need to feature scaling\n",
    "    * good at handling categorical variables\n",
    "    * easy for parallal computing\n",
    "    * good at handling very high dimensional features and large number of training examples\n",
    "* Model's performance with imputed data is almost the same as the model using data without imputation\n",
    "* From the feature importance of random forest, three features including last_trip_since_signup, avg_dist, weekday_pct are significantly important to the prediction. They are the best predictors for retention.  "
   ]
  }
 ],
 "metadata": {
  "kernelspec": {
   "display_name": "Python 3",
   "language": "python",
   "name": "python3"
  },
  "language_info": {
   "codemirror_mode": {
    "name": "ipython",
    "version": 3
   },
   "file_extension": ".py",
   "mimetype": "text/x-python",
   "name": "python",
   "nbconvert_exporter": "python",
   "pygments_lexer": "ipython3",
   "version": "3.4.3"
  }
 },
 "nbformat": 4,
 "nbformat_minor": 0
}
